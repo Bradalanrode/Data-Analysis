{
 "cells": [
  {
   "cell_type": "markdown",
   "metadata": {},
   "source": [
    "# Linear Regression to Predict Housing Prices"
   ]
  },
  {
   "cell_type": "code",
   "execution_count": 37,
   "metadata": {
    "collapsed": false
   },
   "outputs": [],
   "source": [
    "import pandas as pd\n",
    "import numpy as np\n",
    "import matplotlib.pyplot as plt\n",
    "%matplotlib inline\n",
    "from sklearn.linear_model import LinearRegression\n",
    "from sklearn.metrics import mean_squared_error\n",
    "from sklearn.model_selection import KFold"
   ]
  },
  {
   "cell_type": "code",
   "execution_count": 38,
   "metadata": {
    "collapsed": false
   },
   "outputs": [],
   "source": [
    "data = pd.read_csv('AmesHousing.tsv', delimiter = '\\t')"
   ]
  },
  {
   "cell_type": "code",
   "execution_count": 39,
   "metadata": {
    "collapsed": false
   },
   "outputs": [
    {
     "data": {
      "text/html": [
       "<div>\n",
       "<style scoped>\n",
       "    .dataframe tbody tr th:only-of-type {\n",
       "        vertical-align: middle;\n",
       "    }\n",
       "\n",
       "    .dataframe tbody tr th {\n",
       "        vertical-align: top;\n",
       "    }\n",
       "\n",
       "    .dataframe thead th {\n",
       "        text-align: right;\n",
       "    }\n",
       "</style>\n",
       "<table border=\"1\" class=\"dataframe\">\n",
       "  <thead>\n",
       "    <tr style=\"text-align: right;\">\n",
       "      <th></th>\n",
       "      <th>Order</th>\n",
       "      <th>PID</th>\n",
       "      <th>MS SubClass</th>\n",
       "      <th>MS Zoning</th>\n",
       "      <th>Lot Frontage</th>\n",
       "      <th>Lot Area</th>\n",
       "      <th>Street</th>\n",
       "      <th>Alley</th>\n",
       "      <th>Lot Shape</th>\n",
       "      <th>Land Contour</th>\n",
       "      <th>...</th>\n",
       "      <th>Pool Area</th>\n",
       "      <th>Pool QC</th>\n",
       "      <th>Fence</th>\n",
       "      <th>Misc Feature</th>\n",
       "      <th>Misc Val</th>\n",
       "      <th>Mo Sold</th>\n",
       "      <th>Yr Sold</th>\n",
       "      <th>Sale Type</th>\n",
       "      <th>Sale Condition</th>\n",
       "      <th>SalePrice</th>\n",
       "    </tr>\n",
       "  </thead>\n",
       "  <tbody>\n",
       "    <tr>\n",
       "      <th>0</th>\n",
       "      <td>1</td>\n",
       "      <td>526301100</td>\n",
       "      <td>20</td>\n",
       "      <td>RL</td>\n",
       "      <td>141.0</td>\n",
       "      <td>31770</td>\n",
       "      <td>Pave</td>\n",
       "      <td>NaN</td>\n",
       "      <td>IR1</td>\n",
       "      <td>Lvl</td>\n",
       "      <td>...</td>\n",
       "      <td>0</td>\n",
       "      <td>NaN</td>\n",
       "      <td>NaN</td>\n",
       "      <td>NaN</td>\n",
       "      <td>0</td>\n",
       "      <td>5</td>\n",
       "      <td>2010</td>\n",
       "      <td>WD</td>\n",
       "      <td>Normal</td>\n",
       "      <td>215000</td>\n",
       "    </tr>\n",
       "    <tr>\n",
       "      <th>1</th>\n",
       "      <td>2</td>\n",
       "      <td>526350040</td>\n",
       "      <td>20</td>\n",
       "      <td>RH</td>\n",
       "      <td>80.0</td>\n",
       "      <td>11622</td>\n",
       "      <td>Pave</td>\n",
       "      <td>NaN</td>\n",
       "      <td>Reg</td>\n",
       "      <td>Lvl</td>\n",
       "      <td>...</td>\n",
       "      <td>0</td>\n",
       "      <td>NaN</td>\n",
       "      <td>MnPrv</td>\n",
       "      <td>NaN</td>\n",
       "      <td>0</td>\n",
       "      <td>6</td>\n",
       "      <td>2010</td>\n",
       "      <td>WD</td>\n",
       "      <td>Normal</td>\n",
       "      <td>105000</td>\n",
       "    </tr>\n",
       "    <tr>\n",
       "      <th>2</th>\n",
       "      <td>3</td>\n",
       "      <td>526351010</td>\n",
       "      <td>20</td>\n",
       "      <td>RL</td>\n",
       "      <td>81.0</td>\n",
       "      <td>14267</td>\n",
       "      <td>Pave</td>\n",
       "      <td>NaN</td>\n",
       "      <td>IR1</td>\n",
       "      <td>Lvl</td>\n",
       "      <td>...</td>\n",
       "      <td>0</td>\n",
       "      <td>NaN</td>\n",
       "      <td>NaN</td>\n",
       "      <td>Gar2</td>\n",
       "      <td>12500</td>\n",
       "      <td>6</td>\n",
       "      <td>2010</td>\n",
       "      <td>WD</td>\n",
       "      <td>Normal</td>\n",
       "      <td>172000</td>\n",
       "    </tr>\n",
       "    <tr>\n",
       "      <th>3</th>\n",
       "      <td>4</td>\n",
       "      <td>526353030</td>\n",
       "      <td>20</td>\n",
       "      <td>RL</td>\n",
       "      <td>93.0</td>\n",
       "      <td>11160</td>\n",
       "      <td>Pave</td>\n",
       "      <td>NaN</td>\n",
       "      <td>Reg</td>\n",
       "      <td>Lvl</td>\n",
       "      <td>...</td>\n",
       "      <td>0</td>\n",
       "      <td>NaN</td>\n",
       "      <td>NaN</td>\n",
       "      <td>NaN</td>\n",
       "      <td>0</td>\n",
       "      <td>4</td>\n",
       "      <td>2010</td>\n",
       "      <td>WD</td>\n",
       "      <td>Normal</td>\n",
       "      <td>244000</td>\n",
       "    </tr>\n",
       "    <tr>\n",
       "      <th>4</th>\n",
       "      <td>5</td>\n",
       "      <td>527105010</td>\n",
       "      <td>60</td>\n",
       "      <td>RL</td>\n",
       "      <td>74.0</td>\n",
       "      <td>13830</td>\n",
       "      <td>Pave</td>\n",
       "      <td>NaN</td>\n",
       "      <td>IR1</td>\n",
       "      <td>Lvl</td>\n",
       "      <td>...</td>\n",
       "      <td>0</td>\n",
       "      <td>NaN</td>\n",
       "      <td>MnPrv</td>\n",
       "      <td>NaN</td>\n",
       "      <td>0</td>\n",
       "      <td>3</td>\n",
       "      <td>2010</td>\n",
       "      <td>WD</td>\n",
       "      <td>Normal</td>\n",
       "      <td>189900</td>\n",
       "    </tr>\n",
       "  </tbody>\n",
       "</table>\n",
       "<p>5 rows × 82 columns</p>\n",
       "</div>"
      ],
      "text/plain": [
       "   Order        PID  MS SubClass MS Zoning  Lot Frontage  Lot Area Street  \\\n",
       "0      1  526301100           20        RL         141.0     31770   Pave   \n",
       "1      2  526350040           20        RH          80.0     11622   Pave   \n",
       "2      3  526351010           20        RL          81.0     14267   Pave   \n",
       "3      4  526353030           20        RL          93.0     11160   Pave   \n",
       "4      5  527105010           60        RL          74.0     13830   Pave   \n",
       "\n",
       "  Alley Lot Shape Land Contour    ...     Pool Area Pool QC  Fence  \\\n",
       "0   NaN       IR1          Lvl    ...             0     NaN    NaN   \n",
       "1   NaN       Reg          Lvl    ...             0     NaN  MnPrv   \n",
       "2   NaN       IR1          Lvl    ...             0     NaN    NaN   \n",
       "3   NaN       Reg          Lvl    ...             0     NaN    NaN   \n",
       "4   NaN       IR1          Lvl    ...             0     NaN  MnPrv   \n",
       "\n",
       "  Misc Feature Misc Val Mo Sold Yr Sold Sale Type  Sale Condition  SalePrice  \n",
       "0          NaN        0       5    2010       WD           Normal     215000  \n",
       "1          NaN        0       6    2010       WD           Normal     105000  \n",
       "2         Gar2    12500       6    2010       WD           Normal     172000  \n",
       "3          NaN        0       4    2010       WD           Normal     244000  \n",
       "4          NaN        0       3    2010       WD           Normal     189900  \n",
       "\n",
       "[5 rows x 82 columns]"
      ]
     },
     "execution_count": 39,
     "metadata": {},
     "output_type": "execute_result"
    }
   ],
   "source": [
    "data.head()"
   ]
  },
  {
   "cell_type": "markdown",
   "metadata": {},
   "source": [
    "I am going to create some useful modeling functions that I will continually update throughout the project. These will help me iterate through multiple model variations, finding the optimal feature selections and transformations."
   ]
  },
  {
   "cell_type": "code",
   "execution_count": 40,
   "metadata": {
    "collapsed": true
   },
   "outputs": [],
   "source": [
    "train = data.iloc[:1460]\n",
    "test = data.iloc[1460:]"
   ]
  },
  {
   "cell_type": "code",
   "execution_count": 41,
   "metadata": {
    "collapsed": false
   },
   "outputs": [],
   "source": [
    "def transform_features(data):\n",
    "    return data\n",
    "\n",
    "def select_features(data):\n",
    "    feature_columns = data[['Gr Liv Area','SalePrice']]\n",
    "    return feature_columns\n",
    "    \n",
    "def train_and_test(data):\n",
    "    train = data.iloc[:1460]\n",
    "    test = data.iloc[1460:]\n",
    "    numerics = ['integer', 'float']\n",
    "    features = data.select_dtypes(include=numerics).drop(['SalePrice'], axis = 1).columns\n",
    "    lr = LinearRegression()\n",
    "    lr.fit(train[features], train['SalePrice'])\n",
    "    test_predictions = lr.predict(test[features])\n",
    "    test_mse = mean_squared_error(test['SalePrice'], test_predictions)\n",
    "    test_rmse = np.sqrt(test_mse)\n",
    "    return(test_rmse)"
   ]
  },
  {
   "cell_type": "code",
   "execution_count": 42,
   "metadata": {
    "collapsed": false
   },
   "outputs": [
    {
     "data": {
      "text/plain": [
       "57088.25161263909"
      ]
     },
     "execution_count": 42,
     "metadata": {},
     "output_type": "execute_result"
    }
   ],
   "source": [
    "transform_df = transform_features(data)\n",
    "filtered_df = select_features(transform_df)\n",
    "rmse = train_and_test(filtered_df)\n",
    "\n",
    "rmse"
   ]
  },
  {
   "cell_type": "markdown",
   "metadata": {},
   "source": [
    "Without altering the data and only selecting one feature, my model returns an error score of 57,088 on average from the actual sale price. I want to get this number much lower and have a much more accurate prediction model."
   ]
  },
  {
   "cell_type": "markdown",
   "metadata": {},
   "source": [
    "# Data Cleaning"
   ]
  },
  {
   "cell_type": "markdown",
   "metadata": {},
   "source": [
    "### Removing columns with more than 40% missing values"
   ]
  },
  {
   "cell_type": "code",
   "execution_count": 43,
   "metadata": {
    "collapsed": false
   },
   "outputs": [
    {
     "name": "stdout",
     "output_type": "stream",
     "text": [
      "1172.0\n"
     ]
    }
   ],
   "source": [
    "print(len(data) * .4)"
   ]
  },
  {
   "cell_type": "code",
   "execution_count": 44,
   "metadata": {
    "collapsed": false
   },
   "outputs": [
    {
     "data": {
      "text/plain": [
       "Lot Frontage       490\n",
       "Alley             2732\n",
       "Mas Vnr Type        23\n",
       "Mas Vnr Area        23\n",
       "Bsmt Qual           80\n",
       "Bsmt Cond           80\n",
       "Bsmt Exposure       83\n",
       "BsmtFin Type 1      80\n",
       "BsmtFin SF 1         1\n",
       "BsmtFin Type 2      81\n",
       "BsmtFin SF 2         1\n",
       "Bsmt Unf SF          1\n",
       "Total Bsmt SF        1\n",
       "Electrical           1\n",
       "Bsmt Full Bath       2\n",
       "Bsmt Half Bath       2\n",
       "Fireplace Qu      1422\n",
       "Garage Type        157\n",
       "Garage Yr Blt      159\n",
       "Garage Finish      159\n",
       "Garage Cars          1\n",
       "Garage Area          1\n",
       "Garage Qual        159\n",
       "Garage Cond        159\n",
       "Pool QC           2917\n",
       "Fence             2358\n",
       "Misc Feature      2824\n",
       "dtype: int64"
      ]
     },
     "execution_count": 44,
     "metadata": {},
     "output_type": "execute_result"
    }
   ],
   "source": [
    "null_values = data.isnull().sum()\n",
    "null_columns = null_values[null_values > 0]\n",
    "null_columns"
   ]
  },
  {
   "cell_type": "code",
   "execution_count": 45,
   "metadata": {
    "collapsed": false
   },
   "outputs": [
    {
     "data": {
      "text/plain": [
       "Alley           2732\n",
       "Fireplace Qu    1422\n",
       "Pool QC         2917\n",
       "Fence           2358\n",
       "Misc Feature    2824\n",
       "dtype: int64"
      ]
     },
     "execution_count": 45,
     "metadata": {},
     "output_type": "execute_result"
    }
   ],
   "source": [
    "null_over_40 = null_columns[null_columns > 1172]\n",
    "null_over_40"
   ]
  },
  {
   "cell_type": "code",
   "execution_count": 46,
   "metadata": {
    "collapsed": true
   },
   "outputs": [],
   "source": [
    "def transform_features(data):\n",
    "    new_train = data.drop(null_over_40.index, axis = 1)\n",
    "    return new_train"
   ]
  },
  {
   "cell_type": "code",
   "execution_count": 47,
   "metadata": {
    "collapsed": false
   },
   "outputs": [
    {
     "data": {
      "text/html": [
       "<div>\n",
       "<style scoped>\n",
       "    .dataframe tbody tr th:only-of-type {\n",
       "        vertical-align: middle;\n",
       "    }\n",
       "\n",
       "    .dataframe tbody tr th {\n",
       "        vertical-align: top;\n",
       "    }\n",
       "\n",
       "    .dataframe thead th {\n",
       "        text-align: right;\n",
       "    }\n",
       "</style>\n",
       "<table border=\"1\" class=\"dataframe\">\n",
       "  <thead>\n",
       "    <tr style=\"text-align: right;\">\n",
       "      <th></th>\n",
       "      <th>Order</th>\n",
       "      <th>PID</th>\n",
       "      <th>MS SubClass</th>\n",
       "      <th>MS Zoning</th>\n",
       "      <th>Lot Frontage</th>\n",
       "      <th>Lot Area</th>\n",
       "      <th>Street</th>\n",
       "      <th>Lot Shape</th>\n",
       "      <th>Land Contour</th>\n",
       "      <th>Utilities</th>\n",
       "      <th>...</th>\n",
       "      <th>Enclosed Porch</th>\n",
       "      <th>3Ssn Porch</th>\n",
       "      <th>Screen Porch</th>\n",
       "      <th>Pool Area</th>\n",
       "      <th>Misc Val</th>\n",
       "      <th>Mo Sold</th>\n",
       "      <th>Yr Sold</th>\n",
       "      <th>Sale Type</th>\n",
       "      <th>Sale Condition</th>\n",
       "      <th>SalePrice</th>\n",
       "    </tr>\n",
       "  </thead>\n",
       "  <tbody>\n",
       "    <tr>\n",
       "      <th>0</th>\n",
       "      <td>1</td>\n",
       "      <td>526301100</td>\n",
       "      <td>20</td>\n",
       "      <td>RL</td>\n",
       "      <td>141.0</td>\n",
       "      <td>31770</td>\n",
       "      <td>Pave</td>\n",
       "      <td>IR1</td>\n",
       "      <td>Lvl</td>\n",
       "      <td>AllPub</td>\n",
       "      <td>...</td>\n",
       "      <td>0</td>\n",
       "      <td>0</td>\n",
       "      <td>0</td>\n",
       "      <td>0</td>\n",
       "      <td>0</td>\n",
       "      <td>5</td>\n",
       "      <td>2010</td>\n",
       "      <td>WD</td>\n",
       "      <td>Normal</td>\n",
       "      <td>215000</td>\n",
       "    </tr>\n",
       "    <tr>\n",
       "      <th>1</th>\n",
       "      <td>2</td>\n",
       "      <td>526350040</td>\n",
       "      <td>20</td>\n",
       "      <td>RH</td>\n",
       "      <td>80.0</td>\n",
       "      <td>11622</td>\n",
       "      <td>Pave</td>\n",
       "      <td>Reg</td>\n",
       "      <td>Lvl</td>\n",
       "      <td>AllPub</td>\n",
       "      <td>...</td>\n",
       "      <td>0</td>\n",
       "      <td>0</td>\n",
       "      <td>120</td>\n",
       "      <td>0</td>\n",
       "      <td>0</td>\n",
       "      <td>6</td>\n",
       "      <td>2010</td>\n",
       "      <td>WD</td>\n",
       "      <td>Normal</td>\n",
       "      <td>105000</td>\n",
       "    </tr>\n",
       "    <tr>\n",
       "      <th>2</th>\n",
       "      <td>3</td>\n",
       "      <td>526351010</td>\n",
       "      <td>20</td>\n",
       "      <td>RL</td>\n",
       "      <td>81.0</td>\n",
       "      <td>14267</td>\n",
       "      <td>Pave</td>\n",
       "      <td>IR1</td>\n",
       "      <td>Lvl</td>\n",
       "      <td>AllPub</td>\n",
       "      <td>...</td>\n",
       "      <td>0</td>\n",
       "      <td>0</td>\n",
       "      <td>0</td>\n",
       "      <td>0</td>\n",
       "      <td>12500</td>\n",
       "      <td>6</td>\n",
       "      <td>2010</td>\n",
       "      <td>WD</td>\n",
       "      <td>Normal</td>\n",
       "      <td>172000</td>\n",
       "    </tr>\n",
       "    <tr>\n",
       "      <th>3</th>\n",
       "      <td>4</td>\n",
       "      <td>526353030</td>\n",
       "      <td>20</td>\n",
       "      <td>RL</td>\n",
       "      <td>93.0</td>\n",
       "      <td>11160</td>\n",
       "      <td>Pave</td>\n",
       "      <td>Reg</td>\n",
       "      <td>Lvl</td>\n",
       "      <td>AllPub</td>\n",
       "      <td>...</td>\n",
       "      <td>0</td>\n",
       "      <td>0</td>\n",
       "      <td>0</td>\n",
       "      <td>0</td>\n",
       "      <td>0</td>\n",
       "      <td>4</td>\n",
       "      <td>2010</td>\n",
       "      <td>WD</td>\n",
       "      <td>Normal</td>\n",
       "      <td>244000</td>\n",
       "    </tr>\n",
       "    <tr>\n",
       "      <th>4</th>\n",
       "      <td>5</td>\n",
       "      <td>527105010</td>\n",
       "      <td>60</td>\n",
       "      <td>RL</td>\n",
       "      <td>74.0</td>\n",
       "      <td>13830</td>\n",
       "      <td>Pave</td>\n",
       "      <td>IR1</td>\n",
       "      <td>Lvl</td>\n",
       "      <td>AllPub</td>\n",
       "      <td>...</td>\n",
       "      <td>0</td>\n",
       "      <td>0</td>\n",
       "      <td>0</td>\n",
       "      <td>0</td>\n",
       "      <td>0</td>\n",
       "      <td>3</td>\n",
       "      <td>2010</td>\n",
       "      <td>WD</td>\n",
       "      <td>Normal</td>\n",
       "      <td>189900</td>\n",
       "    </tr>\n",
       "  </tbody>\n",
       "</table>\n",
       "<p>5 rows × 77 columns</p>\n",
       "</div>"
      ],
      "text/plain": [
       "   Order        PID  MS SubClass MS Zoning  Lot Frontage  Lot Area Street  \\\n",
       "0      1  526301100           20        RL         141.0     31770   Pave   \n",
       "1      2  526350040           20        RH          80.0     11622   Pave   \n",
       "2      3  526351010           20        RL          81.0     14267   Pave   \n",
       "3      4  526353030           20        RL          93.0     11160   Pave   \n",
       "4      5  527105010           60        RL          74.0     13830   Pave   \n",
       "\n",
       "  Lot Shape Land Contour Utilities    ...     Enclosed Porch 3Ssn Porch  \\\n",
       "0       IR1          Lvl    AllPub    ...                  0          0   \n",
       "1       Reg          Lvl    AllPub    ...                  0          0   \n",
       "2       IR1          Lvl    AllPub    ...                  0          0   \n",
       "3       Reg          Lvl    AllPub    ...                  0          0   \n",
       "4       IR1          Lvl    AllPub    ...                  0          0   \n",
       "\n",
       "  Screen Porch Pool Area Misc Val Mo Sold Yr Sold  Sale Type  Sale Condition  \\\n",
       "0            0         0        0       5    2010        WD           Normal   \n",
       "1          120         0        0       6    2010        WD           Normal   \n",
       "2            0         0    12500       6    2010        WD           Normal   \n",
       "3            0         0        0       4    2010        WD           Normal   \n",
       "4            0         0        0       3    2010        WD           Normal   \n",
       "\n",
       "   SalePrice  \n",
       "0     215000  \n",
       "1     105000  \n",
       "2     172000  \n",
       "3     244000  \n",
       "4     189900  \n",
       "\n",
       "[5 rows x 77 columns]"
      ]
     },
     "execution_count": 47,
     "metadata": {},
     "output_type": "execute_result"
    }
   ],
   "source": [
    "transform_features(data).head(5)"
   ]
  },
  {
   "cell_type": "markdown",
   "metadata": {},
   "source": [
    "I verified that my five columns with missing values over 40% have been removed using transform_features()."
   ]
  },
  {
   "cell_type": "code",
   "execution_count": 48,
   "metadata": {
    "collapsed": false
   },
   "outputs": [
    {
     "data": {
      "text/plain": [
       "Lot Frontage       490\n",
       "Alley             2732\n",
       "Mas Vnr Type        23\n",
       "Mas Vnr Area        23\n",
       "Bsmt Qual           80\n",
       "Bsmt Cond           80\n",
       "Bsmt Exposure       83\n",
       "BsmtFin Type 1      80\n",
       "BsmtFin SF 1         1\n",
       "BsmtFin Type 2      81\n",
       "BsmtFin SF 2         1\n",
       "Bsmt Unf SF          1\n",
       "Total Bsmt SF        1\n",
       "Electrical           1\n",
       "Bsmt Full Bath       2\n",
       "Bsmt Half Bath       2\n",
       "Fireplace Qu      1422\n",
       "Garage Type        157\n",
       "Garage Yr Blt      159\n",
       "Garage Finish      159\n",
       "Garage Cars          1\n",
       "Garage Area          1\n",
       "Garage Qual        159\n",
       "Garage Cond        159\n",
       "Pool QC           2917\n",
       "Fence             2358\n",
       "Misc Feature      2824\n",
       "dtype: int64"
      ]
     },
     "execution_count": 48,
     "metadata": {},
     "output_type": "execute_result"
    }
   ],
   "source": [
    "null_columns"
   ]
  },
  {
   "cell_type": "markdown",
   "metadata": {
    "collapsed": true
   },
   "source": [
    "### Replace remaining numeric missing values with column mean and mode\n",
    "\n",
    "For the rest of my numeric columns, I will be replacing the data with the mean and the mode to ensure that both floats and integers get filled. I want to keep these columns by filling in the data because I value the potential impact that these features may have on predictions."
   ]
  },
  {
   "cell_type": "code",
   "execution_count": 49,
   "metadata": {
    "collapsed": true
   },
   "outputs": [],
   "source": [
    "def transform_features(data):\n",
    "    new_train = data.drop(null_over_40.index, axis = 1)\n",
    "    new_train = new_train.fillna(new_train.mean())\n",
    "    new_train = new_train.fillna(new_train.mode())\n",
    "    return new_train"
   ]
  },
  {
   "cell_type": "code",
   "execution_count": 50,
   "metadata": {
    "collapsed": false
   },
   "outputs": [
    {
     "data": {
      "text/plain": [
       "Mas Vnr Type       23\n",
       "Bsmt Qual          80\n",
       "Bsmt Cond          80\n",
       "Bsmt Exposure      83\n",
       "BsmtFin Type 1     80\n",
       "BsmtFin Type 2     81\n",
       "Electrical          1\n",
       "Garage Type       157\n",
       "Garage Finish     159\n",
       "Garage Qual       159\n",
       "Garage Cond       159\n",
       "dtype: int64"
      ]
     },
     "execution_count": 50,
     "metadata": {},
     "output_type": "execute_result"
    }
   ],
   "source": [
    "null_values = transform_features(data).isnull().sum()\n",
    "null_columns = null_values[null_values > 0]\n",
    "null_columns"
   ]
  },
  {
   "cell_type": "code",
   "execution_count": 51,
   "metadata": {
    "collapsed": false
   },
   "outputs": [
    {
     "data": {
      "text/plain": [
       "Mas Vnr Type      object\n",
       "Bsmt Qual         object\n",
       "Bsmt Cond         object\n",
       "Bsmt Exposure     object\n",
       "BsmtFin Type 1    object\n",
       "BsmtFin Type 2    object\n",
       "Electrical        object\n",
       "Garage Type       object\n",
       "Garage Finish     object\n",
       "Garage Qual       object\n",
       "Garage Cond       object\n",
       "dtype: object"
      ]
     },
     "execution_count": 51,
     "metadata": {},
     "output_type": "execute_result"
    }
   ],
   "source": [
    "transform_features(data)[null_columns.index].dtypes"
   ]
  },
  {
   "cell_type": "markdown",
   "metadata": {},
   "source": [
    "I still have some columns with missing value and these are all text columns.  I will also be dropping all of these columns from my dataframe rather than replacing the missing values with text."
   ]
  },
  {
   "cell_type": "markdown",
   "metadata": {
    "collapsed": true
   },
   "source": [
    "# Feature Transformation"
   ]
  },
  {
   "cell_type": "markdown",
   "metadata": {},
   "source": [
    "I suspect that one useful new feature would be to include the time in between Year Build and Year Remodled/Addition. If the outcome is 0, this means that no remodeling or addition was ever done on this home. Another feature I will create is age_sold, indicating the age of the house when it is sold.\n",
    "\n",
    "I will also create a \"to drop\" list in my function for columns that I want to drop. I will begin by dropping the \"PID\" column. This column represents a placeholder on the map and is not useful for our model."
   ]
  },
  {
   "cell_type": "code",
   "execution_count": 52,
   "metadata": {
    "collapsed": false
   },
   "outputs": [
    {
     "data": {
      "text/html": [
       "<div>\n",
       "<style scoped>\n",
       "    .dataframe tbody tr th:only-of-type {\n",
       "        vertical-align: middle;\n",
       "    }\n",
       "\n",
       "    .dataframe tbody tr th {\n",
       "        vertical-align: top;\n",
       "    }\n",
       "\n",
       "    .dataframe thead th {\n",
       "        text-align: right;\n",
       "    }\n",
       "</style>\n",
       "<table border=\"1\" class=\"dataframe\">\n",
       "  <thead>\n",
       "    <tr style=\"text-align: right;\">\n",
       "      <th></th>\n",
       "      <th>Order</th>\n",
       "      <th>MS SubClass</th>\n",
       "      <th>MS Zoning</th>\n",
       "      <th>Lot Frontage</th>\n",
       "      <th>Lot Area</th>\n",
       "      <th>Street</th>\n",
       "      <th>Lot Shape</th>\n",
       "      <th>Land Contour</th>\n",
       "      <th>Utilities</th>\n",
       "      <th>Lot Config</th>\n",
       "      <th>...</th>\n",
       "      <th>Enclosed Porch</th>\n",
       "      <th>3Ssn Porch</th>\n",
       "      <th>Screen Porch</th>\n",
       "      <th>Pool Area</th>\n",
       "      <th>Misc Val</th>\n",
       "      <th>Sale Type</th>\n",
       "      <th>Sale Condition</th>\n",
       "      <th>SalePrice</th>\n",
       "      <th>years_until_remod</th>\n",
       "      <th>age_sold</th>\n",
       "    </tr>\n",
       "  </thead>\n",
       "  <tbody>\n",
       "    <tr>\n",
       "      <th>0</th>\n",
       "      <td>1</td>\n",
       "      <td>20</td>\n",
       "      <td>RL</td>\n",
       "      <td>141.0</td>\n",
       "      <td>31770</td>\n",
       "      <td>Pave</td>\n",
       "      <td>IR1</td>\n",
       "      <td>Lvl</td>\n",
       "      <td>AllPub</td>\n",
       "      <td>Corner</td>\n",
       "      <td>...</td>\n",
       "      <td>0</td>\n",
       "      <td>0</td>\n",
       "      <td>0</td>\n",
       "      <td>0</td>\n",
       "      <td>0</td>\n",
       "      <td>WD</td>\n",
       "      <td>Normal</td>\n",
       "      <td>215000</td>\n",
       "      <td>0</td>\n",
       "      <td>50</td>\n",
       "    </tr>\n",
       "    <tr>\n",
       "      <th>1</th>\n",
       "      <td>2</td>\n",
       "      <td>20</td>\n",
       "      <td>RH</td>\n",
       "      <td>80.0</td>\n",
       "      <td>11622</td>\n",
       "      <td>Pave</td>\n",
       "      <td>Reg</td>\n",
       "      <td>Lvl</td>\n",
       "      <td>AllPub</td>\n",
       "      <td>Inside</td>\n",
       "      <td>...</td>\n",
       "      <td>0</td>\n",
       "      <td>0</td>\n",
       "      <td>120</td>\n",
       "      <td>0</td>\n",
       "      <td>0</td>\n",
       "      <td>WD</td>\n",
       "      <td>Normal</td>\n",
       "      <td>105000</td>\n",
       "      <td>0</td>\n",
       "      <td>49</td>\n",
       "    </tr>\n",
       "    <tr>\n",
       "      <th>2</th>\n",
       "      <td>3</td>\n",
       "      <td>20</td>\n",
       "      <td>RL</td>\n",
       "      <td>81.0</td>\n",
       "      <td>14267</td>\n",
       "      <td>Pave</td>\n",
       "      <td>IR1</td>\n",
       "      <td>Lvl</td>\n",
       "      <td>AllPub</td>\n",
       "      <td>Corner</td>\n",
       "      <td>...</td>\n",
       "      <td>0</td>\n",
       "      <td>0</td>\n",
       "      <td>0</td>\n",
       "      <td>0</td>\n",
       "      <td>12500</td>\n",
       "      <td>WD</td>\n",
       "      <td>Normal</td>\n",
       "      <td>172000</td>\n",
       "      <td>0</td>\n",
       "      <td>52</td>\n",
       "    </tr>\n",
       "    <tr>\n",
       "      <th>3</th>\n",
       "      <td>4</td>\n",
       "      <td>20</td>\n",
       "      <td>RL</td>\n",
       "      <td>93.0</td>\n",
       "      <td>11160</td>\n",
       "      <td>Pave</td>\n",
       "      <td>Reg</td>\n",
       "      <td>Lvl</td>\n",
       "      <td>AllPub</td>\n",
       "      <td>Corner</td>\n",
       "      <td>...</td>\n",
       "      <td>0</td>\n",
       "      <td>0</td>\n",
       "      <td>0</td>\n",
       "      <td>0</td>\n",
       "      <td>0</td>\n",
       "      <td>WD</td>\n",
       "      <td>Normal</td>\n",
       "      <td>244000</td>\n",
       "      <td>0</td>\n",
       "      <td>42</td>\n",
       "    </tr>\n",
       "    <tr>\n",
       "      <th>4</th>\n",
       "      <td>5</td>\n",
       "      <td>60</td>\n",
       "      <td>RL</td>\n",
       "      <td>74.0</td>\n",
       "      <td>13830</td>\n",
       "      <td>Pave</td>\n",
       "      <td>IR1</td>\n",
       "      <td>Lvl</td>\n",
       "      <td>AllPub</td>\n",
       "      <td>Inside</td>\n",
       "      <td>...</td>\n",
       "      <td>0</td>\n",
       "      <td>0</td>\n",
       "      <td>0</td>\n",
       "      <td>0</td>\n",
       "      <td>0</td>\n",
       "      <td>WD</td>\n",
       "      <td>Normal</td>\n",
       "      <td>189900</td>\n",
       "      <td>1</td>\n",
       "      <td>13</td>\n",
       "    </tr>\n",
       "  </tbody>\n",
       "</table>\n",
       "<p>5 rows × 74 columns</p>\n",
       "</div>"
      ],
      "text/plain": [
       "   Order  MS SubClass MS Zoning  Lot Frontage  Lot Area Street Lot Shape  \\\n",
       "0      1           20        RL         141.0     31770   Pave       IR1   \n",
       "1      2           20        RH          80.0     11622   Pave       Reg   \n",
       "2      3           20        RL          81.0     14267   Pave       IR1   \n",
       "3      4           20        RL          93.0     11160   Pave       Reg   \n",
       "4      5           60        RL          74.0     13830   Pave       IR1   \n",
       "\n",
       "  Land Contour Utilities Lot Config   ...    Enclosed Porch 3Ssn Porch  \\\n",
       "0          Lvl    AllPub     Corner   ...                 0          0   \n",
       "1          Lvl    AllPub     Inside   ...                 0          0   \n",
       "2          Lvl    AllPub     Corner   ...                 0          0   \n",
       "3          Lvl    AllPub     Corner   ...                 0          0   \n",
       "4          Lvl    AllPub     Inside   ...                 0          0   \n",
       "\n",
       "  Screen Porch Pool Area Misc Val Sale Type  Sale Condition  SalePrice  \\\n",
       "0            0         0        0       WD           Normal     215000   \n",
       "1          120         0        0       WD           Normal     105000   \n",
       "2            0         0    12500       WD           Normal     172000   \n",
       "3            0         0        0       WD           Normal     244000   \n",
       "4            0         0        0       WD           Normal     189900   \n",
       "\n",
       "  years_until_remod age_sold  \n",
       "0                 0       50  \n",
       "1                 0       49  \n",
       "2                 0       52  \n",
       "3                 0       42  \n",
       "4                 1       13  \n",
       "\n",
       "[5 rows x 74 columns]"
      ]
     },
     "execution_count": 52,
     "metadata": {},
     "output_type": "execute_result"
    }
   ],
   "source": [
    "def transform_features(data):\n",
    "    new_train = data.drop(null_over_40.index, axis = 1)\n",
    "    new_train = new_train.fillna(new_train.mean())\n",
    "    new_train = new_train.fillna(new_train.mode())\n",
    "    new_train['years_until_remod'] = new_train['Year Remod/Add'] - new_train['Year Built']\n",
    "    new_train['age_sold'] = new_train['Yr Sold'] - new_train['Year Built']\n",
    "    \n",
    "    # drop negative values of new features\n",
    "    \n",
    "    age = new_train['Yr Sold'] - new_train['Year Remod/Add']\n",
    "    neg_age = age[age < 0]\n",
    "    new_train = new_train.drop(neg_age.index, axis = 0)\n",
    "    \n",
    "    to_drop = ['PID', 'Year Built', 'Year Remod/Add', 'Yr Sold', 'Mo Sold']\n",
    "    new_train = new_train.drop(to_drop, axis = 1)\n",
    "    return new_train.dropna()\n",
    "\n",
    "transform_features(data).head(5)"
   ]
  },
  {
   "cell_type": "markdown",
   "metadata": {},
   "source": [
    "# Correlation Heatmap Matrix"
   ]
  },
  {
   "cell_type": "markdown",
   "metadata": {},
   "source": [
    "The generation of a correlation heatmap matrix will give me a nice visual to quickly see the degree to which each column correlates with one another. The dark the color, the stronger the correlation. Ultimately, two columns that are extremely correlated likely convey the same information. I will want to remove extremely correlated features, as they contain duplicate features for my model.\n",
    "\n",
    "To narrow down my correlation, I will set a cutoff of 0.3 as indicative of a significant correlation."
   ]
  },
  {
   "cell_type": "code",
   "execution_count": 53,
   "metadata": {
    "collapsed": false
   },
   "outputs": [
    {
     "data": {
      "text/plain": [
       "Wood Deck SF     0.310626\n",
       "Open Porch SF    0.321822\n",
       "Lot Frontage     0.347078\n",
       "BsmtFin SF 1     0.419501\n",
       "Fireplaces       0.452850\n",
       "Mas Vnr Area     0.504753\n",
       "Garage Yr Blt    0.526940\n",
       "TotRms AbvGrd    0.527352\n",
       "age_sold         0.546373\n",
       "Full Bath        0.556536\n",
       "Garage Area      0.635292\n",
       "Total Bsmt SF    0.645120\n",
       "1st Flr SF       0.645883\n",
       "Garage Cars      0.653256\n",
       "Gr Liv Area      0.728310\n",
       "Overall Qual     0.795566\n",
       "SalePrice        1.000000\n",
       "Name: SalePrice, dtype: float64"
      ]
     },
     "execution_count": 53,
     "metadata": {},
     "output_type": "execute_result"
    }
   ],
   "source": [
    "import seaborn as sns; sns.set()\n",
    "\n",
    "tra_corrs = transform_features(data).corr()\n",
    "sorted_corrs = abs(tra_corrs['SalePrice']).sort_values()\n",
    "strong_corrs = sorted_corrs[sorted_corrs > 0.3]\n",
    "strong_corrs"
   ]
  },
  {
   "cell_type": "code",
   "execution_count": 54,
   "metadata": {
    "collapsed": false
   },
   "outputs": [
    {
     "data": {
      "text/plain": [
       "<matplotlib.axes._subplots.AxesSubplot at 0x7f5f8d580710>"
      ]
     },
     "execution_count": 54,
     "metadata": {},
     "output_type": "execute_result"
    },
    {
     "data": {
      "image/png": "[encoded data removed]",
      "text/plain": [
       "<matplotlib.figure.Figure at 0x7f5f8d697da0>"
      ]
     },
     "metadata": {},
     "output_type": "display_data"
    }
   ],
   "source": [
    "corrmat = abs(transform_features(data)[strong_corrs.index].corr())\n",
    "sns.heatmap(corrmat)"
   ]
  },
  {
   "cell_type": "markdown",
   "metadata": {
    "collapsed": true
   },
   "source": [
    "By looking at the darkest areas of the matrix, not including the line that runs through the middle (columns correlating with themselves), we can see that the following columns correlate with one another the strongest:\n",
    "\n",
    "Gr Liv Area and TotRms AbvGrd\n",
    "\n",
    "Garage Area and Garage Cars\n",
    "\n",
    "Age Sold and Garage Yr Blt\n",
    "\n",
    "1st Flr SF and Total Bsmt SF\n",
    "\n",
    "I will remove one column from each pair as they appear to convey very similar information about our homes. The other columns I will be dropping is Month and Years Sold, because these pieces of information leak data about the final sale. When using my model on future data, I will not yet know the actual date it will be sold."
   ]
  },
  {
   "cell_type": "code",
   "execution_count": 55,
   "metadata": {
    "collapsed": false
   },
   "outputs": [
    {
     "data": {
      "text/html": [
       "<div>\n",
       "<style scoped>\n",
       "    .dataframe tbody tr th:only-of-type {\n",
       "        vertical-align: middle;\n",
       "    }\n",
       "\n",
       "    .dataframe tbody tr th {\n",
       "        vertical-align: top;\n",
       "    }\n",
       "\n",
       "    .dataframe thead th {\n",
       "        text-align: right;\n",
       "    }\n",
       "</style>\n",
       "<table border=\"1\" class=\"dataframe\">\n",
       "  <thead>\n",
       "    <tr style=\"text-align: right;\">\n",
       "      <th></th>\n",
       "      <th>Order</th>\n",
       "      <th>MS SubClass</th>\n",
       "      <th>MS Zoning</th>\n",
       "      <th>Lot Frontage</th>\n",
       "      <th>Lot Area</th>\n",
       "      <th>Street</th>\n",
       "      <th>Lot Shape</th>\n",
       "      <th>Land Contour</th>\n",
       "      <th>Utilities</th>\n",
       "      <th>Lot Config</th>\n",
       "      <th>...</th>\n",
       "      <th>Enclosed Porch</th>\n",
       "      <th>3Ssn Porch</th>\n",
       "      <th>Screen Porch</th>\n",
       "      <th>Pool Area</th>\n",
       "      <th>Misc Val</th>\n",
       "      <th>Sale Type</th>\n",
       "      <th>Sale Condition</th>\n",
       "      <th>SalePrice</th>\n",
       "      <th>years_until_remod</th>\n",
       "      <th>age_sold</th>\n",
       "    </tr>\n",
       "  </thead>\n",
       "  <tbody>\n",
       "    <tr>\n",
       "      <th>0</th>\n",
       "      <td>1</td>\n",
       "      <td>20</td>\n",
       "      <td>RL</td>\n",
       "      <td>141.0</td>\n",
       "      <td>31770</td>\n",
       "      <td>Pave</td>\n",
       "      <td>IR1</td>\n",
       "      <td>Lvl</td>\n",
       "      <td>AllPub</td>\n",
       "      <td>Corner</td>\n",
       "      <td>...</td>\n",
       "      <td>0</td>\n",
       "      <td>0</td>\n",
       "      <td>0</td>\n",
       "      <td>0</td>\n",
       "      <td>0</td>\n",
       "      <td>WD</td>\n",
       "      <td>Normal</td>\n",
       "      <td>215000</td>\n",
       "      <td>0</td>\n",
       "      <td>50</td>\n",
       "    </tr>\n",
       "    <tr>\n",
       "      <th>1</th>\n",
       "      <td>2</td>\n",
       "      <td>20</td>\n",
       "      <td>RH</td>\n",
       "      <td>80.0</td>\n",
       "      <td>11622</td>\n",
       "      <td>Pave</td>\n",
       "      <td>Reg</td>\n",
       "      <td>Lvl</td>\n",
       "      <td>AllPub</td>\n",
       "      <td>Inside</td>\n",
       "      <td>...</td>\n",
       "      <td>0</td>\n",
       "      <td>0</td>\n",
       "      <td>120</td>\n",
       "      <td>0</td>\n",
       "      <td>0</td>\n",
       "      <td>WD</td>\n",
       "      <td>Normal</td>\n",
       "      <td>105000</td>\n",
       "      <td>0</td>\n",
       "      <td>49</td>\n",
       "    </tr>\n",
       "    <tr>\n",
       "      <th>2</th>\n",
       "      <td>3</td>\n",
       "      <td>20</td>\n",
       "      <td>RL</td>\n",
       "      <td>81.0</td>\n",
       "      <td>14267</td>\n",
       "      <td>Pave</td>\n",
       "      <td>IR1</td>\n",
       "      <td>Lvl</td>\n",
       "      <td>AllPub</td>\n",
       "      <td>Corner</td>\n",
       "      <td>...</td>\n",
       "      <td>0</td>\n",
       "      <td>0</td>\n",
       "      <td>0</td>\n",
       "      <td>0</td>\n",
       "      <td>12500</td>\n",
       "      <td>WD</td>\n",
       "      <td>Normal</td>\n",
       "      <td>172000</td>\n",
       "      <td>0</td>\n",
       "      <td>52</td>\n",
       "    </tr>\n",
       "    <tr>\n",
       "      <th>3</th>\n",
       "      <td>4</td>\n",
       "      <td>20</td>\n",
       "      <td>RL</td>\n",
       "      <td>93.0</td>\n",
       "      <td>11160</td>\n",
       "      <td>Pave</td>\n",
       "      <td>Reg</td>\n",
       "      <td>Lvl</td>\n",
       "      <td>AllPub</td>\n",
       "      <td>Corner</td>\n",
       "      <td>...</td>\n",
       "      <td>0</td>\n",
       "      <td>0</td>\n",
       "      <td>0</td>\n",
       "      <td>0</td>\n",
       "      <td>0</td>\n",
       "      <td>WD</td>\n",
       "      <td>Normal</td>\n",
       "      <td>244000</td>\n",
       "      <td>0</td>\n",
       "      <td>42</td>\n",
       "    </tr>\n",
       "    <tr>\n",
       "      <th>4</th>\n",
       "      <td>5</td>\n",
       "      <td>60</td>\n",
       "      <td>RL</td>\n",
       "      <td>74.0</td>\n",
       "      <td>13830</td>\n",
       "      <td>Pave</td>\n",
       "      <td>IR1</td>\n",
       "      <td>Lvl</td>\n",
       "      <td>AllPub</td>\n",
       "      <td>Inside</td>\n",
       "      <td>...</td>\n",
       "      <td>0</td>\n",
       "      <td>0</td>\n",
       "      <td>0</td>\n",
       "      <td>0</td>\n",
       "      <td>0</td>\n",
       "      <td>WD</td>\n",
       "      <td>Normal</td>\n",
       "      <td>189900</td>\n",
       "      <td>1</td>\n",
       "      <td>13</td>\n",
       "    </tr>\n",
       "  </tbody>\n",
       "</table>\n",
       "<p>5 rows × 72 columns</p>\n",
       "</div>"
      ],
      "text/plain": [
       "   Order  MS SubClass MS Zoning  Lot Frontage  Lot Area Street Lot Shape  \\\n",
       "0      1           20        RL         141.0     31770   Pave       IR1   \n",
       "1      2           20        RH          80.0     11622   Pave       Reg   \n",
       "2      3           20        RL          81.0     14267   Pave       IR1   \n",
       "3      4           20        RL          93.0     11160   Pave       Reg   \n",
       "4      5           60        RL          74.0     13830   Pave       IR1   \n",
       "\n",
       "  Land Contour Utilities Lot Config    ...    Enclosed Porch 3Ssn Porch  \\\n",
       "0          Lvl    AllPub     Corner    ...                 0          0   \n",
       "1          Lvl    AllPub     Inside    ...                 0          0   \n",
       "2          Lvl    AllPub     Corner    ...                 0          0   \n",
       "3          Lvl    AllPub     Corner    ...                 0          0   \n",
       "4          Lvl    AllPub     Inside    ...                 0          0   \n",
       "\n",
       "  Screen Porch Pool Area Misc Val Sale Type  Sale Condition  SalePrice  \\\n",
       "0            0         0        0       WD           Normal     215000   \n",
       "1          120         0        0       WD           Normal     105000   \n",
       "2            0         0    12500       WD           Normal     172000   \n",
       "3            0         0        0       WD           Normal     244000   \n",
       "4            0         0        0       WD           Normal     189900   \n",
       "\n",
       "   years_until_remod  age_sold  \n",
       "0                  0        50  \n",
       "1                  0        49  \n",
       "2                  0        52  \n",
       "3                  0        42  \n",
       "4                  1        13  \n",
       "\n",
       "[5 rows x 72 columns]"
      ]
     },
     "execution_count": 55,
     "metadata": {},
     "output_type": "execute_result"
    }
   ],
   "source": [
    "def transform_features(data):\n",
    "    new_train = data.drop(null_over_40.index, axis = 1)\n",
    "    new_train = new_train.fillna(new_train.mean())\n",
    "    new_train = new_train.fillna(new_train.mode())\n",
    "    new_train['years_until_remod'] = new_train['Year Remod/Add'] - new_train['Year Built']\n",
    "    new_train['age_sold'] = new_train['Yr Sold'] - new_train['Year Built']\n",
    "    \n",
    "    # drop negative values of new features\n",
    "    \n",
    "    age = new_train['Yr Sold'] - new_train['Year Remod/Add']\n",
    "    neg_age = age[age < 0]\n",
    "    new_train = new_train.drop(neg_age.index, axis = 0)\n",
    "    \n",
    "    to_drop = ['PID', 'TotRms AbvGrd', 'Garage Area', 'Mo Sold', 'Yr Sold', 'Garage Yr Blt', 'Total Bsmt SF']\n",
    "    new_train = new_train.drop(to_drop, axis = 1)\n",
    "    return new_train.dropna()\n",
    "\n",
    "transform_features(data).head(5)"
   ]
  },
  {
   "cell_type": "markdown",
   "metadata": {},
   "source": [
    "### Removing columns with low variance"
   ]
  },
  {
   "cell_type": "markdown",
   "metadata": {},
   "source": [
    "Features with little variation in their data do not meaninfully contribute to my model and can be dropped. \n",
    "\n",
    "To measure the variance of my feature columns, first I will standardize all columns so that they all vary between 0 and 1, then I will use pandas.var() to compute the variance of each column.\n",
    "\n",
    "The closer the variance is to 0, the less valuable the data is to my model. If the variance is somehow at exactly 0, this means that every number in the column is the same. I will check the variance of my numeric columns."
   ]
  },
  {
   "cell_type": "code",
   "execution_count": 56,
   "metadata": {
    "collapsed": false
   },
   "outputs": [
    {
     "data": {
      "text/plain": [
       "Misc Val             0.000981\n",
       "Lot Area             0.001412\n",
       "Low Qual Fin SF      0.001583\n",
       "Pool Area            0.001986\n",
       "3Ssn Porch           0.002591\n",
       "Kitchen AbvGr        0.003195\n",
       "Enclosed Porch       0.003992\n",
       "Lot Frontage         0.005249\n",
       "BsmtFin SF 1         0.006388\n",
       "1st Flr SF           0.007925\n",
       "Wood Deck SF         0.008138\n",
       "Gr Liv Area          0.008889\n",
       "Screen Porch         0.009989\n",
       "Open Porch SF        0.012891\n",
       "Mas Vnr Area         0.012975\n",
       "BsmtFin SF 2         0.013220\n",
       "Bsmt Half Bath       0.015176\n",
       "Bedroom AbvGr        0.017330\n",
       "Overall Cond         0.017870\n",
       "Full Bath            0.018839\n",
       "Fireplaces           0.026434\n",
       "Garage Cars          0.026626\n",
       "Overall Qual         0.028456\n",
       "years_until_remod    0.034146\n",
       "Bsmt Unf SF          0.034757\n",
       "2nd Flr SF           0.043519\n",
       "Year Built           0.050814\n",
       "age_sold             0.052518\n",
       "MS SubClass          0.059930\n",
       "Half Bath            0.063394\n",
       "Bsmt Full Bath       0.068052\n",
       "Order                0.083578\n",
       "Year Remod/Add       0.116581\n",
       "dtype: float64"
      ]
     },
     "execution_count": 56,
     "metadata": {},
     "output_type": "execute_result"
    }
   ],
   "source": [
    "df = transform_features(data)\n",
    "numerics = ['integer', 'float']\n",
    "features = df.select_dtypes(include=numerics).drop(['SalePrice'], axis = 1).columns\n",
    "best_features = df[features]\n",
    "unit_train = (best_features - best_features.min()) / (best_features.max() - best_features.min())\n",
    "sorted_vars = unit_train.var().sort_values()\n",
    "sorted_vars"
   ]
  },
  {
   "cell_type": "markdown",
   "metadata": {},
   "source": [
    "Now I have a list, sorted by degree of variance, of my top features. I will set a variance cutoff of 0.005 and eliminate those features."
   ]
  },
  {
   "cell_type": "code",
   "execution_count": 57,
   "metadata": {
    "collapsed": false
   },
   "outputs": [
    {
     "data": {
      "text/plain": [
       "Misc Val           0.000981\n",
       "Lot Area           0.001412\n",
       "Low Qual Fin SF    0.001583\n",
       "Pool Area          0.001986\n",
       "3Ssn Porch         0.002591\n",
       "Kitchen AbvGr      0.003195\n",
       "Enclosed Porch     0.003992\n",
       "dtype: float64"
      ]
     },
     "execution_count": 57,
     "metadata": {},
     "output_type": "execute_result"
    }
   ],
   "source": [
    "variance_todrop = sorted_vars[sorted_vars < 0.005]\n",
    "variance_todrop"
   ]
  },
  {
   "cell_type": "markdown",
   "metadata": {},
   "source": [
    "## Creating dummy columns"
   ]
  },
  {
   "cell_type": "markdown",
   "metadata": {
    "collapsed": true
   },
   "source": [
    "To use text columns in my data, I am going to convert object columns to category type and create dummy columns from them. This enables them to be read as a number and used in the model. I will only be creating dummy columns from my text columns with no missing values."
   ]
  },
  {
   "cell_type": "code",
   "execution_count": 58,
   "metadata": {
    "collapsed": false
   },
   "outputs": [
    {
     "data": {
      "text/plain": [
       "Index(['MS Zoning', 'Street', 'Lot Shape', 'Land Contour', 'Utilities',\n",
       "       'Lot Config', 'Land Slope', 'Neighborhood', 'Condition 1',\n",
       "       'Condition 2', 'Bldg Type', 'House Style', 'Roof Style', 'Roof Matl',\n",
       "       'Exterior 1st', 'Exterior 2nd', 'Mas Vnr Type', 'Exter Qual',\n",
       "       'Exter Cond', 'Foundation', 'Bsmt Qual', 'Bsmt Cond', 'Bsmt Exposure',\n",
       "       'BsmtFin Type 1', 'BsmtFin Type 2', 'Heating', 'Heating QC',\n",
       "       'Central Air', 'Electrical', 'Kitchen Qual', 'Functional',\n",
       "       'Garage Type', 'Garage Finish', 'Garage Qual', 'Garage Cond',\n",
       "       'Paved Drive', 'Sale Type', 'Sale Condition'],\n",
       "      dtype='object')"
      ]
     },
     "execution_count": 58,
     "metadata": {},
     "output_type": "execute_result"
    }
   ],
   "source": [
    "text_cols = transform_features(data).select_dtypes(include=['object']).columns\n",
    "text_cols"
   ]
  },
  {
   "cell_type": "code",
   "execution_count": 59,
   "metadata": {
    "collapsed": false
   },
   "outputs": [
    {
     "data": {
      "text/html": [
       "<div>\n",
       "<style scoped>\n",
       "    .dataframe tbody tr th:only-of-type {\n",
       "        vertical-align: middle;\n",
       "    }\n",
       "\n",
       "    .dataframe tbody tr th {\n",
       "        vertical-align: top;\n",
       "    }\n",
       "\n",
       "    .dataframe thead th {\n",
       "        text-align: right;\n",
       "    }\n",
       "</style>\n",
       "<table border=\"1\" class=\"dataframe\">\n",
       "  <thead>\n",
       "    <tr style=\"text-align: right;\">\n",
       "      <th></th>\n",
       "      <th>Order</th>\n",
       "      <th>MS SubClass</th>\n",
       "      <th>Lot Frontage</th>\n",
       "      <th>Overall Qual</th>\n",
       "      <th>Overall Cond</th>\n",
       "      <th>Year Built</th>\n",
       "      <th>Year Remod/Add</th>\n",
       "      <th>Mas Vnr Type</th>\n",
       "      <th>Mas Vnr Area</th>\n",
       "      <th>Bsmt Qual</th>\n",
       "      <th>...</th>\n",
       "      <th>New</th>\n",
       "      <th>Oth</th>\n",
       "      <th>VWD</th>\n",
       "      <th>WD</th>\n",
       "      <th>Abnorml</th>\n",
       "      <th>AdjLand</th>\n",
       "      <th>Alloca</th>\n",
       "      <th>Family</th>\n",
       "      <th>Normal</th>\n",
       "      <th>Partial</th>\n",
       "    </tr>\n",
       "  </thead>\n",
       "  <tbody>\n",
       "    <tr>\n",
       "      <th>0</th>\n",
       "      <td>1</td>\n",
       "      <td>20</td>\n",
       "      <td>141.0</td>\n",
       "      <td>6</td>\n",
       "      <td>5</td>\n",
       "      <td>1960</td>\n",
       "      <td>1960</td>\n",
       "      <td>Stone</td>\n",
       "      <td>112.0</td>\n",
       "      <td>TA</td>\n",
       "      <td>...</td>\n",
       "      <td>0</td>\n",
       "      <td>0</td>\n",
       "      <td>0</td>\n",
       "      <td>1</td>\n",
       "      <td>0</td>\n",
       "      <td>0</td>\n",
       "      <td>0</td>\n",
       "      <td>0</td>\n",
       "      <td>1</td>\n",
       "      <td>0</td>\n",
       "    </tr>\n",
       "    <tr>\n",
       "      <th>1</th>\n",
       "      <td>2</td>\n",
       "      <td>20</td>\n",
       "      <td>80.0</td>\n",
       "      <td>5</td>\n",
       "      <td>6</td>\n",
       "      <td>1961</td>\n",
       "      <td>1961</td>\n",
       "      <td>None</td>\n",
       "      <td>0.0</td>\n",
       "      <td>TA</td>\n",
       "      <td>...</td>\n",
       "      <td>0</td>\n",
       "      <td>0</td>\n",
       "      <td>0</td>\n",
       "      <td>1</td>\n",
       "      <td>0</td>\n",
       "      <td>0</td>\n",
       "      <td>0</td>\n",
       "      <td>0</td>\n",
       "      <td>1</td>\n",
       "      <td>0</td>\n",
       "    </tr>\n",
       "    <tr>\n",
       "      <th>2</th>\n",
       "      <td>3</td>\n",
       "      <td>20</td>\n",
       "      <td>81.0</td>\n",
       "      <td>6</td>\n",
       "      <td>6</td>\n",
       "      <td>1958</td>\n",
       "      <td>1958</td>\n",
       "      <td>BrkFace</td>\n",
       "      <td>108.0</td>\n",
       "      <td>TA</td>\n",
       "      <td>...</td>\n",
       "      <td>0</td>\n",
       "      <td>0</td>\n",
       "      <td>0</td>\n",
       "      <td>1</td>\n",
       "      <td>0</td>\n",
       "      <td>0</td>\n",
       "      <td>0</td>\n",
       "      <td>0</td>\n",
       "      <td>1</td>\n",
       "      <td>0</td>\n",
       "    </tr>\n",
       "    <tr>\n",
       "      <th>3</th>\n",
       "      <td>4</td>\n",
       "      <td>20</td>\n",
       "      <td>93.0</td>\n",
       "      <td>7</td>\n",
       "      <td>5</td>\n",
       "      <td>1968</td>\n",
       "      <td>1968</td>\n",
       "      <td>None</td>\n",
       "      <td>0.0</td>\n",
       "      <td>TA</td>\n",
       "      <td>...</td>\n",
       "      <td>0</td>\n",
       "      <td>0</td>\n",
       "      <td>0</td>\n",
       "      <td>1</td>\n",
       "      <td>0</td>\n",
       "      <td>0</td>\n",
       "      <td>0</td>\n",
       "      <td>0</td>\n",
       "      <td>1</td>\n",
       "      <td>0</td>\n",
       "    </tr>\n",
       "    <tr>\n",
       "      <th>4</th>\n",
       "      <td>5</td>\n",
       "      <td>60</td>\n",
       "      <td>74.0</td>\n",
       "      <td>5</td>\n",
       "      <td>5</td>\n",
       "      <td>1997</td>\n",
       "      <td>1998</td>\n",
       "      <td>None</td>\n",
       "      <td>0.0</td>\n",
       "      <td>Gd</td>\n",
       "      <td>...</td>\n",
       "      <td>0</td>\n",
       "      <td>0</td>\n",
       "      <td>0</td>\n",
       "      <td>1</td>\n",
       "      <td>0</td>\n",
       "      <td>0</td>\n",
       "      <td>0</td>\n",
       "      <td>0</td>\n",
       "      <td>1</td>\n",
       "      <td>0</td>\n",
       "    </tr>\n",
       "  </tbody>\n",
       "</table>\n",
       "<p>5 rows × 231 columns</p>\n",
       "</div>"
      ],
      "text/plain": [
       "   Order  MS SubClass  Lot Frontage  Overall Qual  Overall Cond  Year Built  \\\n",
       "0      1           20         141.0             6             5        1960   \n",
       "1      2           20          80.0             5             6        1961   \n",
       "2      3           20          81.0             6             6        1958   \n",
       "3      4           20          93.0             7             5        1968   \n",
       "4      5           60          74.0             5             5        1997   \n",
       "\n",
       "   Year Remod/Add Mas Vnr Type  Mas Vnr Area Bsmt Qual   ...    New Oth VWD  \\\n",
       "0            1960        Stone         112.0        TA   ...      0   0   0   \n",
       "1            1961         None           0.0        TA   ...      0   0   0   \n",
       "2            1958      BrkFace         108.0        TA   ...      0   0   0   \n",
       "3            1968         None           0.0        TA   ...      0   0   0   \n",
       "4            1998         None           0.0        Gd   ...      0   0   0   \n",
       "\n",
       "   WD  Abnorml  AdjLand  Alloca Family  Normal  Partial  \n",
       "0    1       0        0       0      0       1        0  \n",
       "1    1       0        0       0      0       1        0  \n",
       "2    1       0        0       0      0       1        0  \n",
       "3    1       0        0       0      0       1        0  \n",
       "4    1       0        0       0      0       1        0  \n",
       "\n",
       "[5 rows x 231 columns]"
      ]
     },
     "execution_count": 59,
     "metadata": {},
     "output_type": "execute_result"
    }
   ],
   "source": [
    "def transform_features(data):\n",
    "    new_train = data.drop(null_over_40.index, axis = 1)\n",
    "    new_train = new_train.fillna(new_train.mean())\n",
    "    new_train = new_train.fillna(new_train.mode())\n",
    "    new_train['years_until_remod'] = new_train['Year Remod/Add'] - new_train['Year Built']\n",
    "    new_train['age_sold'] = new_train['Yr Sold'] - new_train['Year Built']\n",
    "    \n",
    "    # drop negative values of new features\n",
    "    \n",
    "    age = new_train['Yr Sold'] - new_train['Year Remod/Add']\n",
    "    neg_age = age[age < 0]\n",
    "    new_train = new_train.drop(neg_age.index, axis = 0)\n",
    "    \n",
    "    to_drop = ['PID', 'TotRms AbvGrd', 'Garage Area', 'Mo Sold', 'Yr Sold', 'Garage Yr Blt', 'Total Bsmt SF']\n",
    "    new_train = new_train.drop(to_drop, axis = 1)\n",
    "    new_train = new_train.drop(variance_todrop.index, axis = 1)\n",
    "    \n",
    "    # create dummy columns\n",
    "    \n",
    "    null_counts = new_train.isnull().sum()\n",
    "    series = null_counts[null_counts == 0]\n",
    "    df_no_mv = new_train[series.index]\n",
    "    text_cols = df_no_mv.select_dtypes(include=['object']).columns\n",
    "    \n",
    "    for col in text_cols:\n",
    "        new_train[col] = new_train[col].astype('category')\n",
    "        dum_col = pd.get_dummies(new_train[col])\n",
    "        new_train = pd.concat([new_train, dum_col], axis = 1)\n",
    "        del new_train[col]\n",
    "        \n",
    "    # changing duplicate column names\n",
    "    \n",
    "    cols = pd.Series(new_train.columns)\n",
    "    for dup in new_train.columns.get_duplicates(): cols[new_train.columns.get_loc(dup)]=[dup+'.'+str(d_idx) if d_idx!=0 else dup for d_idx in range(new_train.columns.get_loc(dup).sum())]\n",
    "    new_train.columns = cols\n",
    "        \n",
    "    return new_train.dropna()\n",
    "\n",
    "transform_features(data).head(5)"
   ]
  },
  {
   "cell_type": "code",
   "execution_count": 60,
   "metadata": {
    "collapsed": false
   },
   "outputs": [
    {
     "data": {
      "text/plain": [
       "Wood Deck SF      0.310626\n",
       "Open Porch SF     0.321822\n",
       "VinylSd           0.325223\n",
       "VinylSd.1         0.325659\n",
       "TA                0.345873\n",
       "Partial           0.346878\n",
       "Lot Frontage      0.347078\n",
       "New               0.351936\n",
       "CBlock.1          0.379244\n",
       "BsmtFin SF 1      0.419501\n",
       "Gd.1              0.424822\n",
       "NridgHt           0.431803\n",
       "Ex                0.445704\n",
       "Fireplaces        0.452850\n",
       "Ex.3              0.491756\n",
       "Mas Vnr Area      0.504753\n",
       "PConc             0.516934\n",
       "Year Remod/Add    0.525990\n",
       "TA.3              0.531192\n",
       "Year Built        0.545849\n",
       "age_sold          0.546373\n",
       "Ex.3              0.548992\n",
       "Full Bath         0.556536\n",
       "TA.2              0.594741\n",
       "1st Flr SF        0.645883\n",
       "Garage Cars       0.653256\n",
       "Gr Liv Area       0.728310\n",
       "Overall Qual      0.795566\n",
       "SalePrice         1.000000\n",
       "Name: SalePrice, dtype: float64"
      ]
     },
     "execution_count": 60,
     "metadata": {},
     "output_type": "execute_result"
    }
   ],
   "source": [
    "tra_corrs = transform_features(data).corr()\n",
    "sorted_corrs = abs(tra_corrs['SalePrice']).sort_values()\n",
    "strong_corrs = sorted_corrs[sorted_corrs > 0.3]\n",
    "strong_corrs"
   ]
  },
  {
   "cell_type": "markdown",
   "metadata": {},
   "source": [
    "# Selecting Features"
   ]
  },
  {
   "cell_type": "markdown",
   "metadata": {},
   "source": [
    "Next I will start selecting features that correlate the strongest with SalePrice and begin testing my model. With my pipeline of fuctions that I created, it will be quick to test multiple iterations.\n",
    "\n",
    "To begin, I will include all features that correlate with SalePrice greater than 0.3."
   ]
  },
  {
   "cell_type": "code",
   "execution_count": 61,
   "metadata": {
    "collapsed": false
   },
   "outputs": [],
   "source": [
    "def transform_features(data):\n",
    "    new_train = data.drop(null_over_40.index, axis = 1)\n",
    "    new_train = new_train.fillna(new_train.mean())\n",
    "    new_train = new_train.fillna(new_train.mode())\n",
    "    new_train['years_until_remod'] = new_train['Year Remod/Add'] - new_train['Year Built']\n",
    "    new_train['age_sold'] = new_train['Yr Sold'] - new_train['Year Built']\n",
    "    \n",
    "    # drop negative values of new features\n",
    "    \n",
    "    age = new_train['Yr Sold'] - new_train['Year Remod/Add']\n",
    "    neg_age = age[age < 0]\n",
    "    new_train = new_train.drop(neg_age.index, axis = 0)\n",
    "    \n",
    "    to_drop = ['PID', 'TotRms AbvGrd', 'Garage Area', 'Mo Sold', 'Yr Sold', 'Garage Yr Blt', 'Total Bsmt SF']\n",
    "    new_train = new_train.drop(to_drop, axis = 1)\n",
    "    new_train = new_train.drop(variance_todrop.index, axis = 1)\n",
    "    \n",
    "    # create dummy columns\n",
    "    \n",
    "    null_counts = new_train.isnull().sum()\n",
    "    series = null_counts[null_counts == 0]\n",
    "    df_no_mv = new_train[series.index]\n",
    "    text_cols = df_no_mv.select_dtypes(include=['object']).columns\n",
    "    \n",
    "    for col in text_cols:\n",
    "        new_train[col] = new_train[col].astype('category')\n",
    "        dum_col = pd.get_dummies(new_train[col])\n",
    "        new_train = pd.concat([new_train, dum_col], axis = 1)\n",
    "        del new_train[col]\n",
    "        \n",
    "    # changing duplicate column names\n",
    "    \n",
    "    cols = pd.Series(new_train.columns)\n",
    "    for dup in new_train.columns.get_duplicates(): cols[new_train.columns.get_loc(dup)]=[dup+'.'+str(d_idx) if d_idx!=0 else dup for d_idx in range(new_train.columns.get_loc(dup).sum())]\n",
    "    new_train.columns = cols\n",
    "        \n",
    "    return new_train.dropna()\n",
    "\n",
    "def select_features(data):\n",
    "    corrs = data.corr()\n",
    "    sorted_corrs = abs(corrs['SalePrice']).sort_values()\n",
    "    strong_corrs = sorted_corrs[sorted_corrs > 0.3]\n",
    "    new_features = data[strong_corrs.index]\n",
    "    return new_features\n",
    "\n",
    "def train_and_test(data):\n",
    "    train = data.iloc[:1460]\n",
    "    test = data.iloc[1460:]\n",
    "    numerics = ['integer', 'float']\n",
    "    features = data.select_dtypes(include=numerics).drop(['SalePrice'], axis = 1).columns\n",
    "    lr = LinearRegression()\n",
    "    lr.fit(train[features], train['SalePrice'])\n",
    "    test_predictions = lr.predict(test[features])\n",
    "    test_mse = mean_squared_error(test['SalePrice'], test_predictions)\n",
    "    test_rmse = np.sqrt(test_mse)\n",
    "    return(test_rmse)\n"
   ]
  },
  {
   "cell_type": "code",
   "execution_count": 62,
   "metadata": {
    "collapsed": false
   },
   "outputs": [
    {
     "data": {
      "text/plain": [
       "31604.355412731456"
      ]
     },
     "execution_count": 62,
     "metadata": {},
     "output_type": "execute_result"
    }
   ],
   "source": [
    "transform_df = transform_features(data)\n",
    "filtered_df = select_features(transform_df)\n",
    "rmse = train_and_test(filtered_df)\n",
    "\n",
    "rmse"
   ]
  },
  {
   "cell_type": "markdown",
   "metadata": {},
   "source": [
    "### Comparing with top 5 features"
   ]
  },
  {
   "cell_type": "markdown",
   "metadata": {},
   "source": [
    "Currently my model takes in quite a lot of features, all with corellations above 0.3. I will compares a simplier model using only the top five features."
   ]
  },
  {
   "cell_type": "code",
   "execution_count": 63,
   "metadata": {
    "collapsed": true
   },
   "outputs": [],
   "source": [
    "top_five = ['Overall Qual', 'Gr Liv Area', 'Garage Cars', '1st Flr SF', 'TA.3']"
   ]
  },
  {
   "cell_type": "code",
   "execution_count": 64,
   "metadata": {
    "collapsed": true
   },
   "outputs": [],
   "source": [
    "def select_features(data):\n",
    "    top_five = ['SalePrice', 'Overall Qual', 'Gr Liv Area', 'Garage Cars', '1st Flr SF', 'TA.3']\n",
    "    new_features = data[top_five]\n",
    "    return new_features"
   ]
  },
  {
   "cell_type": "code",
   "execution_count": 65,
   "metadata": {
    "collapsed": false
   },
   "outputs": [
    {
     "data": {
      "text/plain": [
       "36775.423764075684"
      ]
     },
     "execution_count": 65,
     "metadata": {},
     "output_type": "execute_result"
    }
   ],
   "source": [
    "transform_df = transform_features(data)\n",
    "filtered_df = select_features(transform_df)\n",
    "rmse = train_and_test(filtered_df)\n",
    "\n",
    "rmse"
   ]
  },
  {
   "cell_type": "markdown",
   "metadata": {},
   "source": [
    "By only including the top five features, my model is considerably less accurate."
   ]
  },
  {
   "cell_type": "markdown",
   "metadata": {},
   "source": [
    "### Experimenting with correlation coefficient."
   ]
  },
  {
   "cell_type": "markdown",
   "metadata": {},
   "source": [
    "Next, I will try altering the correlation coefficient cuttoff for features above and below 0.3 to see if the RMSE score improves."
   ]
  },
  {
   "cell_type": "code",
   "execution_count": 66,
   "metadata": {
    "collapsed": true
   },
   "outputs": [],
   "source": [
    "def select_features(data):\n",
    "    corrs = data.corr()\n",
    "    sorted_corrs = abs(corrs['SalePrice']).sort_values()\n",
    "    strong_corrs = sorted_corrs[sorted_corrs > 0.4]\n",
    "    new_features = data[strong_corrs.index]\n",
    "    return new_features"
   ]
  },
  {
   "cell_type": "code",
   "execution_count": 67,
   "metadata": {
    "collapsed": false
   },
   "outputs": [
    {
     "data": {
      "text/plain": [
       "32035.36307641674"
      ]
     },
     "execution_count": 67,
     "metadata": {},
     "output_type": "execute_result"
    }
   ],
   "source": [
    "transform_df = transform_features(data)\n",
    "filtered_df = select_features(transform_df)\n",
    "rmse = train_and_test(filtered_df)\n",
    "\n",
    "rmse"
   ]
  },
  {
   "cell_type": "code",
   "execution_count": 68,
   "metadata": {
    "collapsed": false
   },
   "outputs": [],
   "source": [
    "def select_features(data):\n",
    "    corrs = data.corr()\n",
    "    sorted_corrs = abs(corrs['SalePrice']).sort_values()\n",
    "    strong_corrs = sorted_corrs[sorted_corrs > 0.19]\n",
    "    new_features = data[strong_corrs.index]\n",
    "    return new_features"
   ]
  },
  {
   "cell_type": "code",
   "execution_count": 69,
   "metadata": {
    "collapsed": false
   },
   "outputs": [
    {
     "data": {
      "text/plain": [
       "29789.14720447058"
      ]
     },
     "execution_count": 69,
     "metadata": {},
     "output_type": "execute_result"
    }
   ],
   "source": [
    "transform_df = transform_features(data)\n",
    "filtered_df = select_features(transform_df)\n",
    "rmse = train_and_test(filtered_df)\n",
    "\n",
    "rmse"
   ]
  },
  {
   "cell_type": "markdown",
   "metadata": {},
   "source": [
    "From experimenting with the correlation coeffient cutoff of which features to include, .19 gives me the most accurate model."
   ]
  },
  {
   "cell_type": "markdown",
   "metadata": {},
   "source": [
    "# Improving Training and Testing"
   ]
  },
  {
   "cell_type": "markdown",
   "metadata": {},
   "source": [
    "I will update my function to include an option for holdout validation or cross validation, specifying the number of folds to use."
   ]
  },
  {
   "cell_type": "code",
   "execution_count": 70,
   "metadata": {
    "collapsed": false
   },
   "outputs": [],
   "source": [
    "def train_and_test(data, k=0):\n",
    "    numerics = ['integer', 'float']\n",
    "    features = data.select_dtypes(include=numerics).drop(['SalePrice'], axis = 1).columns\n",
    "    lr = LinearRegression()\n",
    "    shuff_data = data.sample(frac=1, random_state = 1)\n",
    "    \n",
    "    if k==0:\n",
    "        train = data.iloc[:1460]\n",
    "        test = data.iloc[1460:]\n",
    "        lr.fit(train[features], train['SalePrice'])\n",
    "        test_predictions = lr.predict(test[features])\n",
    "        test_mse = mean_squared_error(test['SalePrice'], test_predictions)\n",
    "        test_rmse = np.sqrt(test_mse)\n",
    "        return(test_rmse)\n",
    "    \n",
    "    if k==1:\n",
    "        fold_one = shuff_data[:1460]\n",
    "        fold_two = shuff_data[1460:]\n",
    "        \n",
    "        lr.fit(fold_one[features], fold_one['SalePrice'])\n",
    "        predictions1 = lr.predict(fold_two[features])\n",
    "        mse1 = mean_squared_error(fold_two['SalePrice'], predictions1)\n",
    "        rmse1 = np.sqrt(mse1)\n",
    "        \n",
    "        lr.fit(fold_two[features], fold_two['SalePrice'])\n",
    "        predictions2 = lr.predict(fold_one[features])\n",
    "        mse2 = mean_squared_error(fold_one['SalePrice'], predictions2)\n",
    "        rmse2 = np.sqrt(mse2)\n",
    "        \n",
    "        avg_rmse = np.mean([rmse2, rmse1])\n",
    "        print(rmse1, rmse2, avg_rmse)\n",
    "        return(avg_rmse)\n",
    "    \n",
    "    else:\n",
    "        kf = KFold(n_splits=k)\n",
    "        rmse_values = []\n",
    "        for train_index, test_index, in kf.split(shuff_data):\n",
    "            train = shuff_data.iloc[train_index]\n",
    "            test = shuff_data.iloc[test_index]\n",
    "            lr.fit(train[features], train[\"SalePrice\"])\n",
    "            predictions = lr.predict(test[features])\n",
    "            mse = mean_squared_error(test[\"SalePrice\"], predictions)\n",
    "            rmse = np.sqrt(mse)\n",
    "            rmse_values.append(rmse)\n",
    "        print(rmse_values)\n",
    "        avg_rmse = np.mean(rmse_values)\n",
    "        return avg_rmse"
   ]
  },
  {
   "cell_type": "markdown",
   "metadata": {},
   "source": [
    "### Predictions using one fold."
   ]
  },
  {
   "cell_type": "code",
   "execution_count": 71,
   "metadata": {
    "collapsed": false
   },
   "outputs": [
    {
     "name": "stdout",
     "output_type": "stream",
     "text": [
      "33180.2384302497 28199.601137006528 30689.919783628116\n"
     ]
    },
    {
     "data": {
      "text/plain": [
       "30689.919783628116"
      ]
     },
     "execution_count": 71,
     "metadata": {},
     "output_type": "execute_result"
    }
   ],
   "source": [
    "transform_df = transform_features(data)\n",
    "filtered_df = select_features(transform_df)\n",
    "rmse = train_and_test(filtered_df, k=1)\n",
    "\n",
    "rmse"
   ]
  },
  {
   "cell_type": "markdown",
   "metadata": {},
   "source": [
    "### Predictions using 4 folds."
   ]
  },
  {
   "cell_type": "code",
   "execution_count": 72,
   "metadata": {
    "collapsed": false
   },
   "outputs": [
    {
     "name": "stdout",
     "output_type": "stream",
     "text": [
      "[25096.985237651163, 28107.292254038508, 38480.67061319323, 27382.013554264053]\n"
     ]
    },
    {
     "data": {
      "text/plain": [
       "29766.74041478674"
      ]
     },
     "execution_count": 72,
     "metadata": {},
     "output_type": "execute_result"
    }
   ],
   "source": [
    "transform_df = transform_features(data)\n",
    "filtered_df = select_features(transform_df)\n",
    "rmse = train_and_test(filtered_df, k=4)\n",
    "\n",
    "rmse"
   ]
  },
  {
   "cell_type": "markdown",
   "metadata": {},
   "source": [
    "Performing cross validation, my model returns an average rmse score of 29,766. This means that on average, my model predicts housing prices by a deviation of $29,766 from the actual price. This seems like a reasonably accurate model for estimating a home's sale price."
   ]
  },
  {
   "cell_type": "code",
   "execution_count": null,
   "metadata": {
    "collapsed": true
   },
   "outputs": [],
   "source": []
  }
 ],
 "metadata": {
  "anaconda-cloud": {},
  "kernelspec": {
   "display_name": "Python 3",
   "language": "python",
   "name": "python3"
  },
  "language_info": {
   "codemirror_mode": {
    "name": "ipython",
    "version": 3
   },
   "file_extension": ".py",
   "mimetype": "text/x-python",
   "name": "python",
   "nbconvert_exporter": "python",
   "pygments_lexer": "ipython3",
   "version": "3.4.3"
  }
 },
 "nbformat": 4,
 "nbformat_minor": 2
}
