{
 "cells": [
  {
   "cell_type": "code",
   "execution_count": 18,
   "metadata": {
    "collapsed": false
   },
   "outputs": [],
   "source": [
    "import pandas as pd\n",
    "import sqlite3\n",
    "import numpy as np\n",
    "import matplotlib.pyplot as plt\n",
    "%matplotlib inline"
   ]
  },
  {
   "cell_type": "markdown",
   "metadata": {},
   "source": [
    "In this project, I own a digital music library (pretend) and I need to decide which new artists and albums to purchase for my store. I will be using SQL queries integrated with Python to analyze and visualize the data.\n",
    "\n",
    "My first steps are to define functions that will integrate SQL with Python. These will help me run my upcoming queries faster."
   ]
  },
  {
   "cell_type": "code",
   "execution_count": 19,
   "metadata": {
    "collapsed": true
   },
   "outputs": [],
   "source": [
    "def run_query(q):\n",
    "    with sqlite3.connect('chinook.db') as conn:\n",
    "        return pd.read_sql(q, conn)"
   ]
  },
  {
   "cell_type": "code",
   "execution_count": 20,
   "metadata": {
    "collapsed": true
   },
   "outputs": [],
   "source": [
    "def run_command(c):\n",
    "    with sqlite3.connect('chinook.db') as conn:\n",
    "        conn.isolation_level = None\n",
    "        return conn.execute(c)"
   ]
  },
  {
   "cell_type": "code",
   "execution_count": 21,
   "metadata": {
    "collapsed": false
   },
   "outputs": [],
   "source": [
    "def show_tables():\n",
    "    q = \"SELECT name, type FROM sqlite_master WHERE type IN ('table','view')\"\n",
    "    return run_query(q)"
   ]
  },
  {
   "cell_type": "code",
   "execution_count": 22,
   "metadata": {
    "collapsed": false
   },
   "outputs": [
    {
     "name": "stdout",
     "output_type": "stream",
     "text": [
      "              name   type\n",
      "0            album  table\n",
      "1           artist  table\n",
      "2         customer  table\n",
      "3         employee  table\n",
      "4            genre  table\n",
      "5          invoice  table\n",
      "6     invoice_line  table\n",
      "7       media_type  table\n",
      "8         playlist  table\n",
      "9   playlist_track  table\n",
      "10           track  table\n",
      "11   top_countries   view\n",
      "12             top   view\n",
      "13           top_c   view\n",
      "14       top_count   view\n",
      "15    topcountries   view\n"
     ]
    }
   ],
   "source": [
    "print(show_tables())"
   ]
  },
  {
   "cell_type": "markdown",
   "metadata": {},
   "source": [
    "Part I - New artist selection.\n",
    "\n",
    "I need to decide which three, out of four, artists to purchase for my music library:\n",
    "\n",
    "  \n",
    "Regal - Hip-Hop\n",
    "\n",
    "Red Tone - Punk\n",
    "\n",
    "Meteor and the Girls - Pop\n",
    "\n",
    "Slim Jim Bites - Blues\n",
    "\n",
    "\n",
    "I will write a query to discover which genres sell the most tracks in the USA, then create a visualization of that data with Python. I will choose three albums to purchase for my store based the best-selling genres."
   ]
  },
  {
   "cell_type": "code",
   "execution_count": 23,
   "metadata": {
    "collapsed": false
   },
   "outputs": [
    {
     "name": "stdout",
     "output_type": "stream",
     "text": [
      "    genre_id                name\n",
      "0          1                Rock\n",
      "1          2                Jazz\n",
      "2          3               Metal\n",
      "3          4  Alternative & Punk\n",
      "4          5       Rock And Roll\n",
      "5          6               Blues\n",
      "6          7               Latin\n",
      "7          8              Reggae\n",
      "8          9                 Pop\n",
      "9         10          Soundtrack\n",
      "10        11          Bossa Nova\n",
      "11        12      Easy Listening\n",
      "12        13         Heavy Metal\n",
      "13        14            R&B/Soul\n",
      "14        15   Electronica/Dance\n",
      "15        16               World\n",
      "16        17         Hip Hop/Rap\n",
      "17        18     Science Fiction\n",
      "18        19            TV Shows\n",
      "19        20    Sci Fi & Fantasy\n",
      "20        21               Drama\n",
      "21        22              Comedy\n",
      "22        23         Alternative\n",
      "23        24           Classical\n",
      "24        25               Opera\n"
     ]
    }
   ],
   "source": [
    "q = \"SELECT * FROM genre\"\n",
    "genres = run_query(q)\n",
    "print(genres)"
   ]
  },
  {
   "cell_type": "code",
   "execution_count": 24,
   "metadata": {
    "collapsed": false
   },
   "outputs": [
    {
     "name": "stdout",
     "output_type": "stream",
     "text": [
      "                genre  quantity_sold  percentage_sold\n",
      "0                Rock            561        53.377735\n",
      "1  Alternative & Punk            130        12.369172\n",
      "2               Metal            124        11.798287\n",
      "3            R&B/Soul             53         5.042816\n",
      "4               Blues             36         3.425309\n",
      "5         Alternative             35         3.330162\n",
      "6               Latin             22         2.093245\n",
      "7                 Pop             22         2.093245\n",
      "8         Hip Hop/Rap             20         1.902950\n",
      "9                Jazz             14         1.332065\n"
     ]
    }
   ],
   "source": [
    "q = '''\n",
    "    WITH usa_tracks_sold AS\n",
    "    (\n",
    "    SELECT i.*\n",
    "    FROM invoice_line i\n",
    "    INNER JOIN invoice iv ON i.invoice_id = iv.invoice_id\n",
    "    WHERE iv.billing_country = 'USA'\n",
    "    )\n",
    "    \n",
    "    SELECT \n",
    "        g.name genre, \n",
    "        COUNT(uts.invoice_line_id) quantity_sold,\n",
    "        CAST(COUNT(uts.invoice_line_id) AS float) / \n",
    "        (SELECT COUNT(*) FROM usa_tracks_sold) * 100 percentage_sold\n",
    "    FROM usa_tracks_sold uts\n",
    "    INNER JOIN track t ON uts.track_id = t.track_id \n",
    "    INNER JOIN genre g ON t.genre_id = g.genre_id \n",
    "    GROUP BY 1 ORDER BY 2 desc\n",
    "    LIMIT 10;\n",
    "'''\n",
    "\n",
    "top_genres = run_query(q)\n",
    "print(top_genres)"
   ]
  },
  {
   "cell_type": "code",
   "execution_count": 25,
   "metadata": {
    "collapsed": false,
    "scrolled": true
   },
   "outputs": [
    {
     "data": {
      "text/plain": [
       "<matplotlib.axes._subplots.AxesSubplot at 0x7fdc32a0a0b8>"
      ]
     },
     "execution_count": 25,
     "metadata": {},
     "output_type": "execute_result"
    },
    {
     "data": {
      "image/png": "[encoded data removed]",
      "text/plain": [
       "<matplotlib.figure.Figure at 0x7fdc329a47f0>"
      ]
     },
     "metadata": {},
     "output_type": "display_data"
    }
   ],
   "source": [
    "top_genres.plot.barh(x='genre')"
   ]
  },
  {
   "cell_type": "markdown",
   "metadata": {},
   "source": [
    "This graph represents the top ten genres sold in the USA from my store in both total quantity sold and percentages.\n",
    "\n",
    "Based on this data, I will choose the Punk band (Red Tone), Blues band (Slim Jim Bites), and Pop band (Meteor and Girls) to purchase for my store. \n",
    "\n",
    "I am passing on the hip-hop group, but hip-hop is very close behind pop in popularity in the USA. However, one could still make the case for selecting the hip-hop group if trends anticipate that hip-hop will surpass one of the other genres in the future."
   ]
  },
  {
   "cell_type": "markdown",
   "metadata": {},
   "source": [
    "Part II - Sales Per Support Rep\n",
    "\n",
    "Next I will be analyzing the sales of our support reps and looking for any correlations. I will write an SQL query that concatenates columns and joins tables to gather the data that I need."
   ]
  },
  {
   "cell_type": "code",
   "execution_count": 26,
   "metadata": {
    "collapsed": false
   },
   "outputs": [
    {
     "name": "stdout",
     "output_type": "stream",
     "text": [
      "   employee_name    sales  total_customers            hire_date  \\\n",
      "0   Jane Peacock  1731.51              212  2017-04-01 00:00:00   \n",
      "1  Margaret Park  1584.00              214  2017-05-03 00:00:00   \n",
      "2  Steve Johnson  1393.92              188  2017-10-17 00:00:00   \n",
      "\n",
      "            city state  \n",
      "0         London  None  \n",
      "1  Mountain View    CA  \n",
      "2       Edmonton    AB  \n"
     ]
    }
   ],
   "source": [
    "support_reps = '''\n",
    "SELECT \n",
    "    e.first_name || \" \" || e.last_name employee_name,\n",
    "    SUM(i.total) sales,\n",
    "    COUNT(c.customer_id) total_customers,\n",
    "    e.hire_date,\n",
    "    c.city,\n",
    "    c.state\n",
    "FROM employee e\n",
    "INNER JOIN customer c ON e.employee_id = c.support_rep_id\n",
    "INNER JOIN invoice i ON c.customer_id = i.customer_id\n",
    "GROUP BY 1 ORDER BY 2 desc;\n",
    "'''\n",
    "\n",
    "sales_reps = run_query(support_reps)\n",
    "print(sales_reps)"
   ]
  },
  {
   "cell_type": "markdown",
   "metadata": {},
   "source": [
    "Here we can see the total sales of each support rep. One possible interpretation of the data is that the hire date correlates with higher sales, as the more senior reps have more sales than the junior reps. It makes sense that an employee who worked at a company longer would have had more time to to accumulate sales than a newer employee."
   ]
  },
  {
   "cell_type": "code",
   "execution_count": 27,
   "metadata": {
    "collapsed": false
   },
   "outputs": [
    {
     "data": {
      "image/png": "[encoded data removed]",
      "text/plain": [
       "<matplotlib.figure.Figure at 0x7fdc32859208>"
      ]
     },
     "metadata": {},
     "output_type": "display_data"
    }
   ],
   "source": [
    "sales_reps.set_index([\"employee_name\"], inplace=True)\n",
    "sales_reps.plot(kind='barh')\n",
    "plt.xlabel(\"\")\n",
    "plt.show()"
   ]
  },
  {
   "cell_type": "markdown",
   "metadata": {
    "collapsed": true
   },
   "source": [
    "This bar chart compares total customers with the total sales of each agent. Total customers per agent, however, remains fairly even across all three agents and, thus, probably does not contribute to more sales. The newest agent, Steve Johnson, has the least amount of both customers and sales. \n",
    "\n",
    "Total customers assigned does not appear to correlate with higher sales, although the more senior support reps probably have customers assigned that have been with them longer, resulting in more sales for the support rep over time. \n",
    "\n",
    "For now, the data supports my assumption that time with the company is the dominant contributer to higher sales per rep."
   ]
  },
  {
   "cell_type": "markdown",
   "metadata": {
    "collapsed": true
   },
   "source": [
    "Part III - Sales Per Country"
   ]
  },
  {
   "cell_type": "markdown",
   "metadata": {},
   "source": [
    "I have been directed to calculate data, for each country, on the:\n",
    "\n",
    "1. total number of customers\n",
    "\n",
    "2. total value of sales\n",
    "\n",
    "3. average value of sales per customer\n",
    "\n",
    "4. average order value\n",
    "\n",
    "Since many countries only have one customer, I will group all of these into one category of \"Other\", using the CASE statement in SQL and making sure the \"Other\" category stay at the bottom of the table."
   ]
  },
  {
   "cell_type": "code",
   "execution_count": 28,
   "metadata": {
    "collapsed": false
   },
   "outputs": [
    {
     "name": "stdout",
     "output_type": "stream",
     "text": [
      "          country  total_customers  total_sales  avg_sales_per_customer  \\\n",
      "0             USA               13      1040.49               80.037692   \n",
      "1          Canada                8       535.59               66.948750   \n",
      "2          Brazil                5       427.68               85.536000   \n",
      "3          France                5       389.07               77.814000   \n",
      "4         Germany                4       334.62               83.655000   \n",
      "5  Czech Republic                2       273.24              136.620000   \n",
      "6  United Kingdom                3       245.52               81.840000   \n",
      "7        Portugal                2       185.13               92.565000   \n",
      "8           India                2       183.15               91.575000   \n",
      "9           Other               15      1094.94               72.996000   \n",
      "\n",
      "   avg_invoice_amnt  \n",
      "0          7.942672  \n",
      "1          7.047237  \n",
      "2          7.011148  \n",
      "3          7.781400  \n",
      "4          8.161463  \n",
      "5          9.108000  \n",
      "6          8.768571  \n",
      "7          6.383793  \n",
      "8          8.721429  \n",
      "9          7.448571  \n"
     ]
    }
   ],
   "source": [
    "q = '''\n",
    "\n",
    "WITH top_countries AS\n",
    "(\n",
    "SELECT\n",
    "    CASE\n",
    "        WHEN (\n",
    "            SELECT count(*)\n",
    "            FROM customer\n",
    "            WHERE country = c.country\n",
    "            ) = 1 THEN \"Other\"\n",
    "        ELSE c.country\n",
    "    END AS country,\n",
    "    COUNT(distinct c.customer_id) total_customers,\n",
    "    SUM(il.unit_price) total_sales,\n",
    "    COUNT(DISTINCT iL.invoice_id) total_invoices,\n",
    "    COUNT(il.track_id) tracks_purchased\n",
    "FROM customer c\n",
    "INNER JOIN invoice i on c.customer_id = i.customer_id\n",
    "INNER JOIN invoice_line il on i.invoice_id = il.invoice_id\n",
    "GROUP BY 1 ORDER BY 2 desc\n",
    ")\n",
    "\n",
    "SELECT \n",
    "    country,\n",
    "    total_customers,\n",
    "    total_sales,\n",
    "    (total_sales / total_customers) avg_sales_per_customer,\n",
    "    (total_sales / total_invoices) avg_invoice_amnt,\n",
    "    CASE\n",
    "            WHEN country = \"Other\" THEN 1\n",
    "            ELSE 0\n",
    "    END AS sort\n",
    "FROM top_countries\n",
    "GROUP BY country\n",
    "ORDER BY sort asc, total_sales desc\n",
    "\n",
    "'''\n",
    "top = run_query(q)\n",
    "print(top.loc[:,'country':'avg_invoice_amnt'])"
   ]
  },
  {
   "cell_type": "code",
   "execution_count": 30,
   "metadata": {
    "collapsed": false
   },
   "outputs": [
    {
     "data": {
      "image/png": "[encoded data removed]",
      "text/plain": [
       "<matplotlib.figure.Figure at 0x7fdc32845b38>"
      ]
     },
     "metadata": {},
     "output_type": "display_data"
    }
   ],
   "source": [
    "sales = top['total_sales']\n",
    "labels = top['country']\n",
    "\n",
    "fig1, ax1 = plt.subplots()\n",
    "ax1.pie(sales, labels=labels, autopct='%1.1f%%',\n",
    "        shadow=True, startangle=90)\n",
    "ax1.axis('equal')  \n",
    "\n",
    "plt.show()"
   ]
  },
  {
   "cell_type": "markdown",
   "metadata": {},
   "source": [
    "We can see that far and away our biggest categories of sales come from the \"USA\" and \"Other\" categories (\"Other\" being all countries with only one customer). We can ignore the \"Other\" category for now, as it represents a very broad market and not a unique segment from a marketing perspective. It is good to know, however, how expansive our product has become across the globe. \n",
    "\n",
    "The North American market, taken as USA plus Canada, is very promising and makes up 1/3 of all sales in the music library. This is our most profitable market and a good place to focus our marketing efforts in the future, as well as growing our music catalog with artists that appeal to this segment."
   ]
  },
  {
   "cell_type": "markdown",
   "metadata": {},
   "source": [
    "PROJECT IS ONGOING."
   ]
  }
 ],
 "metadata": {
  "kernelspec": {
   "display_name": "Python 3",
   "language": "python",
   "name": "python3"
  },
  "language_info": {
   "codemirror_mode": {
    "name": "ipython",
    "version": 3
   },
   "file_extension": ".py",
   "mimetype": "text/x-python",
   "name": "python",
   "nbconvert_exporter": "python",
   "pygments_lexer": "ipython3",
   "version": "3.4.3"
  }
 },
 "nbformat": 4,
 "nbformat_minor": 2
}
