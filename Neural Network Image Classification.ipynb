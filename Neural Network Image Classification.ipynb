{
 "cells": [
  {
   "cell_type": "code",
   "execution_count": 35,
   "metadata": {},
   "outputs": [],
   "source": [
    "from sklearn.datasets import load_digits\n",
    "import pandas as pd\n",
    "import matplotlib.pyplot as plt\n",
    "from sklearn.neighbors import KNeighborsClassifier\n",
    "import numpy as np\n",
    "from sklearn.model_selection import KFold"
   ]
  },
  {
   "cell_type": "markdown",
   "metadata": {},
   "source": [
    "The aim of this short project is to create an image classification model. Each row in my dataset is an image. The dataset has 63 columns and the values represent different degrees of shading for each pixel in the image. For predictions, I will compare using a clustering method to a neural network."
   ]
  },
  {
   "cell_type": "markdown",
   "metadata": {},
   "source": [
    "## Data Loading and Exploration"
   ]
  },
  {
   "cell_type": "code",
   "execution_count": 36,
   "metadata": {},
   "outputs": [
    {
     "data": {
      "text/html": [
       "<div>\n",
       "<style scoped>\n",
       "    .dataframe tbody tr th:only-of-type {\n",
       "        vertical-align: middle;\n",
       "    }\n",
       "\n",
       "    .dataframe tbody tr th {\n",
       "        vertical-align: top;\n",
       "    }\n",
       "\n",
       "    .dataframe thead th {\n",
       "        text-align: right;\n",
       "    }\n",
       "</style>\n",
       "<table border=\"1\" class=\"dataframe\">\n",
       "  <thead>\n",
       "    <tr style=\"text-align: right;\">\n",
       "      <th></th>\n",
       "      <th>0</th>\n",
       "    </tr>\n",
       "  </thead>\n",
       "  <tbody>\n",
       "    <tr>\n",
       "      <th>0</th>\n",
       "      <td>0</td>\n",
       "    </tr>\n",
       "    <tr>\n",
       "      <th>1</th>\n",
       "      <td>1</td>\n",
       "    </tr>\n",
       "    <tr>\n",
       "      <th>2</th>\n",
       "      <td>2</td>\n",
       "    </tr>\n",
       "  </tbody>\n",
       "</table>\n",
       "</div>"
      ],
      "text/plain": [
       "   0\n",
       "0  0\n",
       "1  1\n",
       "2  2"
      ]
     },
     "execution_count": 36,
     "metadata": {},
     "output_type": "execute_result"
    }
   ],
   "source": [
    "## creating training and target dataframes\n",
    "\n",
    "train = load_digits()\n",
    "target = pd.DataFrame(train.target)\n",
    "target[0:3]"
   ]
  },
  {
   "cell_type": "code",
   "execution_count": 37,
   "metadata": {},
   "outputs": [
    {
     "data": {
      "text/html": [
       "<div>\n",
       "<style scoped>\n",
       "    .dataframe tbody tr th:only-of-type {\n",
       "        vertical-align: middle;\n",
       "    }\n",
       "\n",
       "    .dataframe tbody tr th {\n",
       "        vertical-align: top;\n",
       "    }\n",
       "\n",
       "    .dataframe thead th {\n",
       "        text-align: right;\n",
       "    }\n",
       "</style>\n",
       "<table border=\"1\" class=\"dataframe\">\n",
       "  <thead>\n",
       "    <tr style=\"text-align: right;\">\n",
       "      <th></th>\n",
       "      <th>0</th>\n",
       "      <th>1</th>\n",
       "      <th>2</th>\n",
       "      <th>3</th>\n",
       "      <th>4</th>\n",
       "      <th>5</th>\n",
       "      <th>6</th>\n",
       "      <th>7</th>\n",
       "      <th>8</th>\n",
       "      <th>9</th>\n",
       "      <th>...</th>\n",
       "      <th>54</th>\n",
       "      <th>55</th>\n",
       "      <th>56</th>\n",
       "      <th>57</th>\n",
       "      <th>58</th>\n",
       "      <th>59</th>\n",
       "      <th>60</th>\n",
       "      <th>61</th>\n",
       "      <th>62</th>\n",
       "      <th>63</th>\n",
       "    </tr>\n",
       "  </thead>\n",
       "  <tbody>\n",
       "    <tr>\n",
       "      <th>0</th>\n",
       "      <td>0.0</td>\n",
       "      <td>0.0</td>\n",
       "      <td>5.0</td>\n",
       "      <td>13.0</td>\n",
       "      <td>9.0</td>\n",
       "      <td>1.0</td>\n",
       "      <td>0.0</td>\n",
       "      <td>0.0</td>\n",
       "      <td>0.0</td>\n",
       "      <td>0.0</td>\n",
       "      <td>...</td>\n",
       "      <td>0.0</td>\n",
       "      <td>0.0</td>\n",
       "      <td>0.0</td>\n",
       "      <td>0.0</td>\n",
       "      <td>6.0</td>\n",
       "      <td>13.0</td>\n",
       "      <td>10.0</td>\n",
       "      <td>0.0</td>\n",
       "      <td>0.0</td>\n",
       "      <td>0.0</td>\n",
       "    </tr>\n",
       "    <tr>\n",
       "      <th>1</th>\n",
       "      <td>0.0</td>\n",
       "      <td>0.0</td>\n",
       "      <td>0.0</td>\n",
       "      <td>12.0</td>\n",
       "      <td>13.0</td>\n",
       "      <td>5.0</td>\n",
       "      <td>0.0</td>\n",
       "      <td>0.0</td>\n",
       "      <td>0.0</td>\n",
       "      <td>0.0</td>\n",
       "      <td>...</td>\n",
       "      <td>0.0</td>\n",
       "      <td>0.0</td>\n",
       "      <td>0.0</td>\n",
       "      <td>0.0</td>\n",
       "      <td>0.0</td>\n",
       "      <td>11.0</td>\n",
       "      <td>16.0</td>\n",
       "      <td>10.0</td>\n",
       "      <td>0.0</td>\n",
       "      <td>0.0</td>\n",
       "    </tr>\n",
       "    <tr>\n",
       "      <th>2</th>\n",
       "      <td>0.0</td>\n",
       "      <td>0.0</td>\n",
       "      <td>0.0</td>\n",
       "      <td>4.0</td>\n",
       "      <td>15.0</td>\n",
       "      <td>12.0</td>\n",
       "      <td>0.0</td>\n",
       "      <td>0.0</td>\n",
       "      <td>0.0</td>\n",
       "      <td>0.0</td>\n",
       "      <td>...</td>\n",
       "      <td>5.0</td>\n",
       "      <td>0.0</td>\n",
       "      <td>0.0</td>\n",
       "      <td>0.0</td>\n",
       "      <td>0.0</td>\n",
       "      <td>3.0</td>\n",
       "      <td>11.0</td>\n",
       "      <td>16.0</td>\n",
       "      <td>9.0</td>\n",
       "      <td>0.0</td>\n",
       "    </tr>\n",
       "  </tbody>\n",
       "</table>\n",
       "<p>3 rows × 64 columns</p>\n",
       "</div>"
      ],
      "text/plain": [
       "    0    1    2     3     4     5    6    7    8    9  ...    54   55   56  \\\n",
       "0  0.0  0.0  5.0  13.0   9.0   1.0  0.0  0.0  0.0  0.0 ...   0.0  0.0  0.0   \n",
       "1  0.0  0.0  0.0  12.0  13.0   5.0  0.0  0.0  0.0  0.0 ...   0.0  0.0  0.0   \n",
       "2  0.0  0.0  0.0   4.0  15.0  12.0  0.0  0.0  0.0  0.0 ...   5.0  0.0  0.0   \n",
       "\n",
       "    57   58    59    60    61   62   63  \n",
       "0  0.0  6.0  13.0  10.0   0.0  0.0  0.0  \n",
       "1  0.0  0.0  11.0  16.0  10.0  0.0  0.0  \n",
       "2  0.0  0.0   3.0  11.0  16.0  9.0  0.0  \n",
       "\n",
       "[3 rows x 64 columns]"
      ]
     },
     "execution_count": 37,
     "metadata": {},
     "output_type": "execute_result"
    }
   ],
   "source": [
    "train_data = pd.DataFrame(train.data)\n",
    "train_data[0:3]"
   ]
  },
  {
   "cell_type": "code",
   "execution_count": 38,
   "metadata": {},
   "outputs": [
    {
     "data": {
      "text/plain": [
       "<matplotlib.image.AxesImage at 0x22a85aff4e0>"
      ]
     },
     "execution_count": 38,
     "metadata": {},
     "output_type": "execute_result"
    },
    {
     "data": {
      "image/png": "[encoded data removed]",
      "text/plain": [
       "<Figure size 432x288 with 1 Axes>"
      ]
     },
     "metadata": {
      "needs_background": "light"
     },
     "output_type": "display_data"
    }
   ],
   "source": [
    "first_image = train_data.iloc[0]\n",
    "np_image = first_image.values.reshape(8,8)\n",
    "plt.imshow(np_image, cmap='gray_r')"
   ]
  },
  {
   "cell_type": "code",
   "execution_count": 39,
   "metadata": {},
   "outputs": [],
   "source": [
    "## converting sample rows to images and storing in a dictionary\n",
    "\n",
    "rows = [0, 100, 200, 300, 1000, 1100, 1200, 1300]\n",
    "dictionary = {}\n",
    "\n",
    "for row in rows:\n",
    "    image = train_data.iloc[row]\n",
    "    dictionary[row] = image.values.reshape(8,8)"
   ]
  },
  {
   "cell_type": "code",
   "execution_count": 40,
   "metadata": {},
   "outputs": [
    {
     "data": {
      "text/plain": [
       "<matplotlib.image.AxesImage at 0x22a85ae8be0>"
      ]
     },
     "execution_count": 40,
     "metadata": {},
     "output_type": "execute_result"
    },
    {
     "data": {
      "image/png": "[encoded data removed]",
      "text/plain": [
       "<Figure size 432x288 with 8 Axes>"
      ]
     },
     "metadata": {
      "needs_background": "light"
     },
     "output_type": "display_data"
    }
   ],
   "source": [
    "## creating a visualization of sample images\n",
    "\n",
    "fig = plt.figure()\n",
    "ax1 = fig.add_subplot(2,4,1)\n",
    "ax1.imshow(dictionary[0], cmap='gray_r')\n",
    "ax2 = fig.add_subplot(2,4,2)\n",
    "ax2.imshow(dictionary[100], cmap='gray_r')\n",
    "ax3 = fig.add_subplot(2,4,3)\n",
    "ax3.imshow(dictionary[200], cmap='gray_r')\n",
    "ax4 = fig.add_subplot(2,4,4)\n",
    "ax4.imshow(dictionary[300], cmap='gray_r')\n",
    "ax5 = fig.add_subplot(2,4,5)\n",
    "ax5.imshow(dictionary[1000], cmap='gray_r')\n",
    "ax6 = fig.add_subplot(2,4,6)\n",
    "ax6.imshow(dictionary[1100], cmap='gray_r')\n",
    "ax7 = fig.add_subplot(2,4,7)\n",
    "ax7.imshow(dictionary[1200], cmap='gray_r')\n",
    "ax8 = fig.add_subplot(2,4,8)\n",
    "ax8.imshow(dictionary[1300], cmap='gray_r')"
   ]
  },
  {
   "cell_type": "code",
   "execution_count": 41,
   "metadata": {},
   "outputs": [
    {
     "name": "stdout",
     "output_type": "stream",
     "text": [
      "      0\n",
      "0     0\n",
      "100   4\n",
      "200   1\n",
      "300   7\n",
      "1000  1\n",
      "1100  9\n",
      "1200  7\n",
      "1300  3\n"
     ]
    }
   ],
   "source": [
    "## verify above images with target column\n",
    "\n",
    "print(target.iloc[rows])"
   ]
  },
  {
   "cell_type": "markdown",
   "metadata": {},
   "source": [
    "These eight images are handwritten numbers. By comparing what we see in the images with the target column, we can see how our classification model will need to understand various handwriting styles and still provide an accurate prediction."
   ]
  },
  {
   "cell_type": "code",
   "execution_count": 42,
   "metadata": {},
   "outputs": [],
   "source": [
    "## creating a combined dataframe then splitting for training and testing\n",
    "\n",
    "train_data['numbers'] = target\n",
    "shuffled = train_data.sample(frac=1, random_state=1)\n",
    "half = int(len(shuffled) / 2)\n",
    "train = shuffled.loc[:half].copy()\n",
    "test = shuffled.loc[half:].copy()"
   ]
  },
  {
   "cell_type": "code",
   "execution_count": 43,
   "metadata": {},
   "outputs": [
    {
     "data": {
      "text/plain": [
       "0.8059023836549376"
      ]
     },
     "execution_count": 43,
     "metadata": {},
     "output_type": "execute_result"
    }
   ],
   "source": [
    "## creating functions for a k-nearest neighbors classifier\n",
    "\n",
    "from sklearn.metrics import accuracy_score\n",
    "\n",
    "features = shuffled.drop(['numbers'], axis=1).columns\n",
    "\n",
    "def train_knn(data, k):\n",
    "    knn = KNeighborsClassifier(k)\n",
    "    knn.fit(data[features], data['numbers'])\n",
    "    return knn\n",
    "\n",
    "def test_knn(test_data, model):\n",
    "    test_data['predictions'] = model.predict(test_data[features])\n",
    "    return test_data\n",
    "\n",
    "knn = train_knn(train, 3)\n",
    "tested = test_knn(test, knn)\n",
    "accuracy_score(tested['numbers'], tested['predictions'])"
   ]
  },
  {
   "cell_type": "code",
   "execution_count": 44,
   "metadata": {},
   "outputs": [
    {
     "name": "stdout",
     "output_type": "stream",
     "text": [
      "2 neighbors and 4 folds avg_accuracy: 0.9821912892848305\n",
      "3 neighbors and 4 folds avg_accuracy: 0.9872011878247959\n",
      "4 neighbors and 4 folds avg_accuracy: 0.9833073496659243\n",
      "5 neighbors and 4 folds avg_accuracy: 0.9849777282850779\n",
      "6 neighbors and 4 folds avg_accuracy: 0.9827517941103686\n",
      "7 neighbors and 4 folds avg_accuracy: 0.9844221727295223\n",
      "8 neighbors and 4 folds avg_accuracy: 0.9805270972531551\n",
      "9 neighbors and 4 folds avg_accuracy: 0.9827567433803515\n"
     ]
    }
   ],
   "source": [
    "## using k-fold cross validation with 4 folds\n",
    "\n",
    "def cross_validate(data, k):\n",
    "    kf = KFold(n_splits=4, shuffle=True, random_state=2)\n",
    "    accuracies = []\n",
    "    model = KNeighborsClassifier(k)\n",
    "    features = data.drop(['numbers'], axis=1).columns\n",
    "    for train_index, test_index in kf.split(data):\n",
    "        train, test = data.iloc[train_index], data.iloc[test_index]\n",
    "        model.fit(train[features], train['numbers'])\n",
    "        predictions = model.predict(test[features])\n",
    "        accuracy = accuracy_score(test['numbers'], predictions)\n",
    "        accuracies.append(accuracy)\n",
    "    avg_accuracy = np.mean(accuracies)\n",
    "    print(k, \"neighbors and 4 folds avg_accuracy:\", avg_accuracy)\n",
    "    return avg_accuracy\n",
    "\n",
    "for i in range(2, 10):\n",
    "    cross_validate(train_data, k=i)"
   ]
  },
  {
   "cell_type": "markdown",
   "metadata": {},
   "source": [
    "Accuracy using k-fold cross validation drastically improved. This could be because the KFold function trains itself on much more of the dataset than simply splitting it in half. The number of neighbors used seems to have a relatively minor affect on accuracy, but the top result is 3 neighbors."
   ]
  },
  {
   "cell_type": "markdown",
   "metadata": {},
   "source": [
    "## Training a Neural Network\n",
    "\n",
    "Next I will train a neural network on the data including varying the numbers of neurons in the single hidden layer and using 4-fold cross validation."
   ]
  },
  {
   "cell_type": "code",
   "execution_count": 45,
   "metadata": {},
   "outputs": [
    {
     "name": "stderr",
     "output_type": "stream",
     "text": [
      "C:\\Users\\brode\\Anaconda3\\lib\\site-packages\\sklearn\\neural_network\\multilayer_perceptron.py:562: ConvergenceWarning: Stochastic Optimizer: Maximum iterations (1000) reached and the optimization hasn't converged yet.\n",
      "  % self.max_iter, ConvergenceWarning)\n",
      "C:\\Users\\brode\\Anaconda3\\lib\\site-packages\\sklearn\\neural_network\\multilayer_perceptron.py:562: ConvergenceWarning: Stochastic Optimizer: Maximum iterations (1000) reached and the optimization hasn't converged yet.\n",
      "  % self.max_iter, ConvergenceWarning)\n",
      "C:\\Users\\brode\\Anaconda3\\lib\\site-packages\\sklearn\\neural_network\\multilayer_perceptron.py:562: ConvergenceWarning: Stochastic Optimizer: Maximum iterations (1000) reached and the optimization hasn't converged yet.\n",
      "  % self.max_iter, ConvergenceWarning)\n"
     ]
    },
    {
     "name": "stdout",
     "output_type": "stream",
     "text": [
      "8 neurons 0.9360133630289533\n",
      "16 neurons 0.9476961148230636\n",
      "32 neurons 0.9543706178338695\n",
      "64 neurons 0.9591001608512744\n",
      "128 neurons 0.9624939371442712\n",
      "256 neurons 0.9650344386702961\n"
     ]
    },
    {
     "data": {
      "text/plain": [
       "[0.9360133630289533,\n",
       " 0.9476961148230636,\n",
       " 0.9543706178338695,\n",
       " 0.9591001608512744,\n",
       " 0.9624939371442712,\n",
       " 0.9650344386702961]"
      ]
     },
     "execution_count": 45,
     "metadata": {},
     "output_type": "execute_result"
    }
   ],
   "source": [
    "## neural network model with one hidden layer\n",
    "\n",
    "from sklearn.neural_network import MLPClassifier\n",
    "\n",
    "def nn_classifier(data):\n",
    "    neurons = [8, 16, 32, 64, 128, 256]\n",
    "    nn_accuracies = []\n",
    "    kf = KFold(n_splits=4, shuffle=True, random_state=2)\n",
    "    fold_accuracies = []\n",
    "    \n",
    "    for n in neurons:\n",
    "        mlp = MLPClassifier(hidden_layer_sizes=(n,), activation='relu', max_iter=1000)\n",
    "\n",
    "        # include 4 fold validation\n",
    "        for train_index, test_index in kf.split(data):\n",
    "            train, test = data.iloc[train_index], data.iloc[test_index]\n",
    "            mlp.fit(train[features], train['numbers'])\n",
    "            nn_predictions = mlp.predict(test[features])\n",
    "            accuracy = accuracy_score(test['numbers'], nn_predictions)\n",
    "            fold_accuracies.append(accuracy)\n",
    "            \n",
    "        avg_accuracy = np.mean(fold_accuracies)\n",
    "        nn_accuracies.append(avg_accuracy)\n",
    "        print(n, \"neurons\", avg_accuracy)\n",
    "        \n",
    "    return nn_accuracies\n",
    "\n",
    "nn_classifier(shuffled)"
   ]
  },
  {
   "cell_type": "markdown",
   "metadata": {
    "collapsed": true
   },
   "source": [
    "With one hidden layer in my neural network, as we increased the number of neurons, the accuracy improved accordingly. 256 neurons brings us an accuracy of 96.7%, compared to 98.7% for the best knn classifier. Next I will try using 256 neurons in two hidden layers."
   ]
  },
  {
   "cell_type": "code",
   "execution_count": 46,
   "metadata": {},
   "outputs": [
    {
     "name": "stdout",
     "output_type": "stream",
     "text": [
      "256 neurons and 2 layers 0.9782949764909675\n"
     ]
    },
    {
     "data": {
      "text/plain": [
       "[0.9782949764909675]"
      ]
     },
     "execution_count": 46,
     "metadata": {},
     "output_type": "execute_result"
    }
   ],
   "source": [
    "## increasing the neural network to 2 hidden layers and 256 neurons in each\n",
    "\n",
    "def nn_classifier(data, n, k):\n",
    "    nn_accuracies = []\n",
    "    kf = KFold(n_splits=k, shuffle=True, random_state=2)\n",
    "    fold_accuracies = []\n",
    "    mlp = MLPClassifier(hidden_layer_sizes=(n,n), activation='relu', max_iter=1000)\n",
    "\n",
    "    # include 4 fold validation\n",
    "    for train_index, test_index in kf.split(data):\n",
    "        train, test = data.iloc[train_index], data.iloc[test_index]\n",
    "        mlp.fit(train[features], train['numbers'])\n",
    "        nn_predictions = mlp.predict(test[features])\n",
    "        accuracy = accuracy_score(test['numbers'], nn_predictions)\n",
    "        fold_accuracies.append(accuracy)\n",
    "            \n",
    "    avg_accuracy = np.mean(fold_accuracies)\n",
    "    nn_accuracies.append(avg_accuracy)\n",
    "    print(\"256 neurons and 2 layers\", avg_accuracy)    \n",
    "    return nn_accuracies\n",
    "\n",
    "nn_classifier(shuffled, 256, 4)"
   ]
  },
  {
   "cell_type": "code",
   "execution_count": 47,
   "metadata": {},
   "outputs": [
    {
     "name": "stdout",
     "output_type": "stream",
     "text": [
      "10 neurons in 3 hidden layers 0.9438089929394277\n",
      "64 neurons in 3 hidden layers 0.9602211073950205\n",
      "128 neurons in 3 hidden layers 0.9664350303480739\n"
     ]
    },
    {
     "data": {
      "text/plain": [
       "[0.9438089929394277, 0.9602211073950205, 0.9664350303480739]"
      ]
     },
     "execution_count": 47,
     "metadata": {},
     "output_type": "execute_result"
    }
   ],
   "source": [
    "## modifying neural networks to 3 hidden layers, varying neurons in each, and 6 folds for validation\n",
    "## 3 model with 3 hidden layers of 10, 64, and 128 neurons\n",
    "\n",
    "def nn_classifier(data, k):\n",
    "    neurons = [10, 64, 128]\n",
    "    nn_accuracies = []\n",
    "    kf = KFold(n_splits=k, shuffle=True, random_state=2)\n",
    "    fold_accuracies = []\n",
    "    \n",
    "    for n in neurons:\n",
    "        mlp = MLPClassifier(hidden_layer_sizes=(n,n,n), activation='relu', max_iter=1000)\n",
    "\n",
    "        # include 6 fold validation\n",
    "        for train_index, test_index in kf.split(data):\n",
    "            train, test = data.iloc[train_index], data.iloc[test_index]\n",
    "            mlp.fit(train[features], train['numbers'])\n",
    "            nn_predictions = mlp.predict(test[features])\n",
    "            accuracy = accuracy_score(test['numbers'], nn_predictions)\n",
    "            fold_accuracies.append(accuracy)\n",
    "            \n",
    "        avg_accuracy = np.mean(fold_accuracies)\n",
    "        nn_accuracies.append(avg_accuracy)\n",
    "        print(n, \"neurons in 3 hidden layers\", avg_accuracy)\n",
    "        \n",
    "    return nn_accuracies\n",
    "\n",
    "nn_classifier(shuffled, 6)"
   ]
  },
  {
   "cell_type": "markdown",
   "metadata": {},
   "source": [
    "By increasing the hidden layers and number of neurons in each, we actually achieved a lower accuracy score than the simplier model of two hidden layers. I believe we are overfitting the model and reached a point of diminishing returns as the model becomes too complex. This was interesting to compare with a clustering method, which actually produced roughly 1% more accuracy than my best neural network model. Sometimes the tried and true methods are still the most useful at achieving one's goal."
   ]
  },
  {
   "cell_type": "code",
   "execution_count": null,
   "metadata": {},
   "outputs": [],
   "source": []
  }
 ],
 "metadata": {
  "anaconda-cloud": {},
  "kernelspec": {
   "display_name": "Python 3",
   "language": "python",
   "name": "python3"
  }
 },
 "nbformat": 4,
 "nbformat_minor": 2
}
