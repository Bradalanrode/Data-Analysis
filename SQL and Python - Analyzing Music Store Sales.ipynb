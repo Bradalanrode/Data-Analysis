{
 "cells": [
  {
   "cell_type": "code",
   "execution_count": 21,
   "metadata": {
    "collapsed": false
   },
   "outputs": [],
   "source": [
    "import pandas as pd\n",
    "import sqlite3\n",
    "import matplotlib.pyplot as plt\n",
    "%matplotlib inline"
   ]
  },
  {
   "cell_type": "markdown",
   "metadata": {},
   "source": [
    "In this project, I own a fake digital music library and I need to decide which new artists and albums to purchase for my store. I will be using SQL queries integrated with Python to analyze and visualize the data.\n",
    "\n",
    "My first steps are to define functions that will integrate SQL with Python. These will help me run my upcoming queries faster."
   ]
  },
  {
   "cell_type": "code",
   "execution_count": 22,
   "metadata": {
    "collapsed": true
   },
   "outputs": [],
   "source": [
    "def run_query(q):\n",
    "    with sqlite3.connect('chinook.db') as conn:\n",
    "        return pd.read_sql(q, conn)"
   ]
  },
  {
   "cell_type": "code",
   "execution_count": 23,
   "metadata": {
    "collapsed": true
   },
   "outputs": [],
   "source": [
    "def run_command(c):\n",
    "    with sqlite3.connect('chinook.db') as conn:\n",
    "        conn.isolation_level = None\n",
    "        return conn.execute(c)"
   ]
  },
  {
   "cell_type": "code",
   "execution_count": 24,
   "metadata": {
    "collapsed": false
   },
   "outputs": [],
   "source": [
    "def show_tables():\n",
    "    q = \"SELECT name, type FROM sqlite_master WHERE type IN ('table','view')\"\n",
    "    return run_query(q)"
   ]
  },
  {
   "cell_type": "code",
   "execution_count": 25,
   "metadata": {
    "collapsed": false
   },
   "outputs": [
    {
     "name": "stdout",
     "output_type": "stream",
     "text": [
      "              name   type\n",
      "0            album  table\n",
      "1           artist  table\n",
      "2         customer  table\n",
      "3         employee  table\n",
      "4            genre  table\n",
      "5          invoice  table\n",
      "6     invoice_line  table\n",
      "7       media_type  table\n",
      "8         playlist  table\n",
      "9   playlist_track  table\n",
      "10           track  table\n"
     ]
    }
   ],
   "source": [
    "print(show_tables())"
   ]
  },
  {
   "cell_type": "markdown",
   "metadata": {},
   "source": [
    "I need to decide which three, out of four, artists to purchase for my music library:\n",
    "\n",
    "  \n",
    "Regal - Hip-Hop\n",
    "\n",
    "Red Tone - Punk\n",
    "\n",
    "Meteor and the Girls - Pop\n",
    "\n",
    "Slim Jim Bites - Blues\n",
    "\n",
    "\n",
    "I will write a query to discover which genres sell the most tracks in the USA, then create a visualization of that data with pandas. I will choose three albums to purchase for my store based the best selling genres."
   ]
  },
  {
   "cell_type": "code",
   "execution_count": 26,
   "metadata": {
    "collapsed": false
   },
   "outputs": [
    {
     "name": "stdout",
     "output_type": "stream",
     "text": [
      "    genre_id                name\n",
      "0          1                Rock\n",
      "1          2                Jazz\n",
      "2          3               Metal\n",
      "3          4  Alternative & Punk\n",
      "4          5       Rock And Roll\n",
      "5          6               Blues\n",
      "6          7               Latin\n",
      "7          8              Reggae\n",
      "8          9                 Pop\n",
      "9         10          Soundtrack\n",
      "10        11          Bossa Nova\n",
      "11        12      Easy Listening\n",
      "12        13         Heavy Metal\n",
      "13        14            R&B/Soul\n",
      "14        15   Electronica/Dance\n",
      "15        16               World\n",
      "16        17         Hip Hop/Rap\n",
      "17        18     Science Fiction\n",
      "18        19            TV Shows\n",
      "19        20    Sci Fi & Fantasy\n",
      "20        21               Drama\n",
      "21        22              Comedy\n",
      "22        23         Alternative\n",
      "23        24           Classical\n",
      "24        25               Opera\n"
     ]
    }
   ],
   "source": [
    "q = \"SELECT * FROM genre\"\n",
    "genres = run_query(q)\n",
    "print(genres)"
   ]
  },
  {
   "cell_type": "code",
   "execution_count": 27,
   "metadata": {
    "collapsed": false
   },
   "outputs": [
    {
     "name": "stdout",
     "output_type": "stream",
     "text": [
      "                genre  quantity_sold  percentage_sold\n",
      "0                Rock            561        53.377735\n",
      "1  Alternative & Punk            130        12.369172\n",
      "2               Metal            124        11.798287\n",
      "3            R&B/Soul             53         5.042816\n",
      "4               Blues             36         3.425309\n",
      "5         Alternative             35         3.330162\n",
      "6               Latin             22         2.093245\n",
      "7                 Pop             22         2.093245\n",
      "8         Hip Hop/Rap             20         1.902950\n",
      "9                Jazz             14         1.332065\n"
     ]
    }
   ],
   "source": [
    "q = '''\n",
    "    WITH usa_tracks_sold AS\n",
    "    (\n",
    "    SELECT i.*\n",
    "    FROM invoice_line i\n",
    "    INNER JOIN invoice iv ON i.invoice_id = iv.invoice_id\n",
    "    WHERE iv.billing_country = 'USA'\n",
    "    )\n",
    "    \n",
    "    SELECT \n",
    "        g.name genre, \n",
    "        COUNT(uts.invoice_line_id) quantity_sold,\n",
    "        CAST(COUNT(uts.invoice_line_id) AS float) / \n",
    "        (SELECT COUNT(*) FROM usa_tracks_sold) * 100 percentage_sold\n",
    "    FROM usa_tracks_sold uts\n",
    "    INNER JOIN track t ON uts.track_id = t.track_id \n",
    "    INNER JOIN genre g ON t.genre_id = g.genre_id \n",
    "    GROUP BY 1 ORDER BY 2 desc\n",
    "    LIMIT 10;\n",
    "'''\n",
    "\n",
    "top_genres = run_query(q)\n",
    "print(top_genres)"
   ]
  },
  {
   "cell_type": "code",
   "execution_count": 28,
   "metadata": {
    "collapsed": false,
    "scrolled": true
   },
   "outputs": [
    {
     "data": {
      "text/plain": [
       "<matplotlib.axes._subplots.AxesSubplot at 0x7f5940e7aef0>"
      ]
     },
     "execution_count": 28,
     "metadata": {},
     "output_type": "execute_result"
    },
    {
     "data": {
      "image/png": "[encoded data removed]",
      "text/plain": [
       "<matplotlib.figure.Figure at 0x7f5940df2940>"
      ]
     },
     "metadata": {},
     "output_type": "display_data"
    }
   ],
   "source": [
    "top_genres.plot.barh(x='genre')"
   ]
  },
  {
   "cell_type": "markdown",
   "metadata": {},
   "source": [
    "This graph represents the top ten genres sold in the USA from my store in total quantity sold and percentages.\n",
    "\n",
    "Based on this data, I will choose the Punk band (Red Tone), Blues band (Slim Jim Bites), and Pop band (Meteor and Girls) to purchase for my store. \n",
    "\n",
    "I am passing on the hip-hop group, but hip-hop is very close behind pop in popularity in the USA. However, one could still make the case for selecting the hip-hop group if trends anticipate that hip-hop will surpass one of the other genres in the future.\n",
    "\n",
    "Next I will be analyzing the sales of our support reps and looking for any correlations. I will write an SQL query that concatenate's columns and joins tables to gather the data that I need."
   ]
  },
  {
   "cell_type": "code",
   "execution_count": 29,
   "metadata": {
    "collapsed": false
   },
   "outputs": [
    {
     "name": "stdout",
     "output_type": "stream",
     "text": [
      "   employee_name    sales  total_customers            hire_date  \\\n",
      "0   Jane Peacock  1731.51              212  2017-04-01 00:00:00   \n",
      "1  Margaret Park  1584.00              214  2017-05-03 00:00:00   \n",
      "2  Steve Johnson  1393.92              188  2017-10-17 00:00:00   \n",
      "\n",
      "            city state  \n",
      "0         London  None  \n",
      "1  Mountain View    CA  \n",
      "2       Edmonton    AB  \n"
     ]
    }
   ],
   "source": [
    "support_reps = '''\n",
    "SELECT \n",
    "    e.first_name || \" \" || e.last_name employee_name,\n",
    "    SUM(i.total) sales,\n",
    "    COUNT(c.customer_id) total_customers,\n",
    "    e.hire_date,\n",
    "    c.city,\n",
    "    c.state\n",
    "FROM employee e\n",
    "INNER JOIN customer c ON e.employee_id = c.support_rep_id\n",
    "INNER JOIN invoice i ON c.customer_id = i.customer_id\n",
    "GROUP BY 1 ORDER BY 2 desc;\n",
    "'''\n",
    "\n",
    "sales_reps = run_query(support_reps)\n",
    "print(sales_reps)"
   ]
  },
  {
   "cell_type": "markdown",
   "metadata": {},
   "source": [
    "Here we can see the total sales assigned to each support rep. One possible interpretation of the data is that hire date correlates with higher sales, as the more senior reps have more sales than the junior. It makes sense that an employee who worked at a company longer would have had more time to to accumulate sales than a newer employee."
   ]
  },
  {
   "cell_type": "code",
   "execution_count": 30,
   "metadata": {
    "collapsed": false
   },
   "outputs": [
    {
     "data": {
      "image/png": "[encoded data removed]",
      "text/plain": [
       "<matplotlib.figure.Figure at 0x7f5940ce0ba8>"
      ]
     },
     "metadata": {},
     "output_type": "display_data"
    }
   ],
   "source": [
    "sales_reps.set_index([\"employee_name\"], inplace=True)\n",
    "sales_reps.plot(kind='bar',alpha=0.75, rot=0)\n",
    "plt.xlabel(\"\")\n",
    "plt.show()"
   ]
  },
  {
   "cell_type": "markdown",
   "metadata": {
    "collapsed": true
   },
   "source": [
    "This visualization is another way to observe the data. We can see the total sales per support rep, possibly correlating with their hire date. Total customers assigned per rep, however, is fairly even across all three agents, with Steve Johnson, the newest agent, having the least amount of customers and sales. \n",
    "\n",
    "Total customer assigned does not appear to correlate with higher sales, although the more senior support reps probably have customers assigned that have been with them longer, resulting in more sales for the support rep over time."
   ]
  },
  {
   "cell_type": "markdown",
   "metadata": {
    "collapsed": true
   },
   "source": [
    "THIS PROJECT IS ONGOING. TO BE CONTINUED."
   ]
  }
 ],
 "metadata": {
  "kernelspec": {
   "display_name": "Python 3",
   "language": "python",
   "name": "python3"
  },
  "language_info": {
   "codemirror_mode": {
    "name": "ipython",
    "version": 3
   },
   "file_extension": ".py",
   "mimetype": "text/x-python",
   "name": "python",
   "nbconvert_exporter": "python",
   "pygments_lexer": "ipython3",
   "version": "3.4.3"
  }
 },
 "nbformat": 4,
 "nbformat_minor": 2
}
