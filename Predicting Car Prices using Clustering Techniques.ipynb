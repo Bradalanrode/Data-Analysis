{
 "cells": [
  {
   "cell_type": "markdown",
   "metadata": {},
   "source": [
    "# Predicting car prices using a clustering prediction method: K-nearest neighbors"
   ]
  },
  {
   "cell_type": "code",
   "execution_count": 437,
   "metadata": {
    "collapsed": false
   },
   "outputs": [],
   "source": [
    "import pandas as pd\n",
    "import numpy as np\n",
    "import matplotlib.pyplot as plt\n",
    "%matplotlib inline\n",
    "import seaborn as sns; sns.set()"
   ]
  },
  {
   "cell_type": "markdown",
   "metadata": {},
   "source": [
    "### Adding column names to the data"
   ]
  },
  {
   "cell_type": "code",
   "execution_count": 438,
   "metadata": {
    "collapsed": false
   },
   "outputs": [],
   "source": [
    "cols = ['symboling', 'normalized-losses', 'make', 'fuel-type', 'aspiration', 'num-of-doors', 'body-style', \n",
    "        'drive-wheels', 'engine-location', 'wheel-base', 'length', 'width', 'height', 'curb-weight', 'engine-type', \n",
    "        'num-of-cylinders', 'engine-size', 'fuel-system', 'bore', 'stroke', 'compression-rate', 'horsepower', 'peak-rpm', 'city-mpg', 'highway-mpg', 'price']\n",
    "cars = pd.read_csv('imports-85.data', names=cols)"
   ]
  },
  {
   "cell_type": "code",
   "execution_count": 439,
   "metadata": {
    "collapsed": false
   },
   "outputs": [
    {
     "data": {
      "text/html": [
       "<div>\n",
       "<style scoped>\n",
       "    .dataframe tbody tr th:only-of-type {\n",
       "        vertical-align: middle;\n",
       "    }\n",
       "\n",
       "    .dataframe tbody tr th {\n",
       "        vertical-align: top;\n",
       "    }\n",
       "\n",
       "    .dataframe thead th {\n",
       "        text-align: right;\n",
       "    }\n",
       "</style>\n",
       "<table border=\"1\" class=\"dataframe\">\n",
       "  <thead>\n",
       "    <tr style=\"text-align: right;\">\n",
       "      <th></th>\n",
       "      <th>symboling</th>\n",
       "      <th>normalized-losses</th>\n",
       "      <th>make</th>\n",
       "      <th>fuel-type</th>\n",
       "      <th>aspiration</th>\n",
       "      <th>num-of-doors</th>\n",
       "      <th>body-style</th>\n",
       "      <th>drive-wheels</th>\n",
       "      <th>engine-location</th>\n",
       "      <th>wheel-base</th>\n",
       "      <th>...</th>\n",
       "      <th>engine-size</th>\n",
       "      <th>fuel-system</th>\n",
       "      <th>bore</th>\n",
       "      <th>stroke</th>\n",
       "      <th>compression-rate</th>\n",
       "      <th>horsepower</th>\n",
       "      <th>peak-rpm</th>\n",
       "      <th>city-mpg</th>\n",
       "      <th>highway-mpg</th>\n",
       "      <th>price</th>\n",
       "    </tr>\n",
       "  </thead>\n",
       "  <tbody>\n",
       "    <tr>\n",
       "      <th>0</th>\n",
       "      <td>3</td>\n",
       "      <td>?</td>\n",
       "      <td>alfa-romero</td>\n",
       "      <td>gas</td>\n",
       "      <td>std</td>\n",
       "      <td>two</td>\n",
       "      <td>convertible</td>\n",
       "      <td>rwd</td>\n",
       "      <td>front</td>\n",
       "      <td>88.6</td>\n",
       "      <td>...</td>\n",
       "      <td>130</td>\n",
       "      <td>mpfi</td>\n",
       "      <td>3.47</td>\n",
       "      <td>2.68</td>\n",
       "      <td>9.0</td>\n",
       "      <td>111</td>\n",
       "      <td>5000</td>\n",
       "      <td>21</td>\n",
       "      <td>27</td>\n",
       "      <td>13495</td>\n",
       "    </tr>\n",
       "    <tr>\n",
       "      <th>1</th>\n",
       "      <td>3</td>\n",
       "      <td>?</td>\n",
       "      <td>alfa-romero</td>\n",
       "      <td>gas</td>\n",
       "      <td>std</td>\n",
       "      <td>two</td>\n",
       "      <td>convertible</td>\n",
       "      <td>rwd</td>\n",
       "      <td>front</td>\n",
       "      <td>88.6</td>\n",
       "      <td>...</td>\n",
       "      <td>130</td>\n",
       "      <td>mpfi</td>\n",
       "      <td>3.47</td>\n",
       "      <td>2.68</td>\n",
       "      <td>9.0</td>\n",
       "      <td>111</td>\n",
       "      <td>5000</td>\n",
       "      <td>21</td>\n",
       "      <td>27</td>\n",
       "      <td>16500</td>\n",
       "    </tr>\n",
       "  </tbody>\n",
       "</table>\n",
       "<p>2 rows × 26 columns</p>\n",
       "</div>"
      ],
      "text/plain": [
       "   symboling normalized-losses         make fuel-type aspiration num-of-doors  \\\n",
       "0          3                 ?  alfa-romero       gas        std          two   \n",
       "1          3                 ?  alfa-romero       gas        std          two   \n",
       "\n",
       "    body-style drive-wheels engine-location  wheel-base  ...    engine-size  \\\n",
       "0  convertible          rwd           front        88.6  ...            130   \n",
       "1  convertible          rwd           front        88.6  ...            130   \n",
       "\n",
       "   fuel-system  bore  stroke compression-rate horsepower  peak-rpm city-mpg  \\\n",
       "0         mpfi  3.47    2.68              9.0        111      5000       21   \n",
       "1         mpfi  3.47    2.68              9.0        111      5000       21   \n",
       "\n",
       "  highway-mpg  price  \n",
       "0          27  13495  \n",
       "1          27  16500  \n",
       "\n",
       "[2 rows x 26 columns]"
      ]
     },
     "execution_count": 439,
     "metadata": {},
     "output_type": "execute_result"
    }
   ],
   "source": [
    "cars.head(2)"
   ]
  },
  {
   "cell_type": "markdown",
   "metadata": {},
   "source": [
    "### Replacing missing values with numpy.nan"
   ]
  },
  {
   "cell_type": "code",
   "execution_count": 440,
   "metadata": {
    "collapsed": false,
    "scrolled": true
   },
   "outputs": [
    {
     "data": {
      "text/html": [
       "<div>\n",
       "<style scoped>\n",
       "    .dataframe tbody tr th:only-of-type {\n",
       "        vertical-align: middle;\n",
       "    }\n",
       "\n",
       "    .dataframe tbody tr th {\n",
       "        vertical-align: top;\n",
       "    }\n",
       "\n",
       "    .dataframe thead th {\n",
       "        text-align: right;\n",
       "    }\n",
       "</style>\n",
       "<table border=\"1\" class=\"dataframe\">\n",
       "  <thead>\n",
       "    <tr style=\"text-align: right;\">\n",
       "      <th></th>\n",
       "      <th>symboling</th>\n",
       "      <th>normalized-losses</th>\n",
       "      <th>make</th>\n",
       "      <th>fuel-type</th>\n",
       "      <th>aspiration</th>\n",
       "      <th>num-of-doors</th>\n",
       "      <th>body-style</th>\n",
       "      <th>drive-wheels</th>\n",
       "      <th>engine-location</th>\n",
       "      <th>wheel-base</th>\n",
       "      <th>...</th>\n",
       "      <th>engine-size</th>\n",
       "      <th>fuel-system</th>\n",
       "      <th>bore</th>\n",
       "      <th>stroke</th>\n",
       "      <th>compression-rate</th>\n",
       "      <th>horsepower</th>\n",
       "      <th>peak-rpm</th>\n",
       "      <th>city-mpg</th>\n",
       "      <th>highway-mpg</th>\n",
       "      <th>price</th>\n",
       "    </tr>\n",
       "  </thead>\n",
       "  <tbody>\n",
       "    <tr>\n",
       "      <th>0</th>\n",
       "      <td>3</td>\n",
       "      <td>NaN</td>\n",
       "      <td>alfa-romero</td>\n",
       "      <td>gas</td>\n",
       "      <td>std</td>\n",
       "      <td>two</td>\n",
       "      <td>convertible</td>\n",
       "      <td>rwd</td>\n",
       "      <td>front</td>\n",
       "      <td>88.6</td>\n",
       "      <td>...</td>\n",
       "      <td>130</td>\n",
       "      <td>mpfi</td>\n",
       "      <td>3.47</td>\n",
       "      <td>2.68</td>\n",
       "      <td>9.0</td>\n",
       "      <td>111</td>\n",
       "      <td>5000</td>\n",
       "      <td>21</td>\n",
       "      <td>27</td>\n",
       "      <td>13495</td>\n",
       "    </tr>\n",
       "    <tr>\n",
       "      <th>1</th>\n",
       "      <td>3</td>\n",
       "      <td>NaN</td>\n",
       "      <td>alfa-romero</td>\n",
       "      <td>gas</td>\n",
       "      <td>std</td>\n",
       "      <td>two</td>\n",
       "      <td>convertible</td>\n",
       "      <td>rwd</td>\n",
       "      <td>front</td>\n",
       "      <td>88.6</td>\n",
       "      <td>...</td>\n",
       "      <td>130</td>\n",
       "      <td>mpfi</td>\n",
       "      <td>3.47</td>\n",
       "      <td>2.68</td>\n",
       "      <td>9.0</td>\n",
       "      <td>111</td>\n",
       "      <td>5000</td>\n",
       "      <td>21</td>\n",
       "      <td>27</td>\n",
       "      <td>16500</td>\n",
       "    </tr>\n",
       "    <tr>\n",
       "      <th>2</th>\n",
       "      <td>1</td>\n",
       "      <td>NaN</td>\n",
       "      <td>alfa-romero</td>\n",
       "      <td>gas</td>\n",
       "      <td>std</td>\n",
       "      <td>two</td>\n",
       "      <td>hatchback</td>\n",
       "      <td>rwd</td>\n",
       "      <td>front</td>\n",
       "      <td>94.5</td>\n",
       "      <td>...</td>\n",
       "      <td>152</td>\n",
       "      <td>mpfi</td>\n",
       "      <td>2.68</td>\n",
       "      <td>3.47</td>\n",
       "      <td>9.0</td>\n",
       "      <td>154</td>\n",
       "      <td>5000</td>\n",
       "      <td>19</td>\n",
       "      <td>26</td>\n",
       "      <td>16500</td>\n",
       "    </tr>\n",
       "    <tr>\n",
       "      <th>3</th>\n",
       "      <td>2</td>\n",
       "      <td>164</td>\n",
       "      <td>audi</td>\n",
       "      <td>gas</td>\n",
       "      <td>std</td>\n",
       "      <td>four</td>\n",
       "      <td>sedan</td>\n",
       "      <td>fwd</td>\n",
       "      <td>front</td>\n",
       "      <td>99.8</td>\n",
       "      <td>...</td>\n",
       "      <td>109</td>\n",
       "      <td>mpfi</td>\n",
       "      <td>3.19</td>\n",
       "      <td>3.40</td>\n",
       "      <td>10.0</td>\n",
       "      <td>102</td>\n",
       "      <td>5500</td>\n",
       "      <td>24</td>\n",
       "      <td>30</td>\n",
       "      <td>13950</td>\n",
       "    </tr>\n",
       "    <tr>\n",
       "      <th>4</th>\n",
       "      <td>2</td>\n",
       "      <td>164</td>\n",
       "      <td>audi</td>\n",
       "      <td>gas</td>\n",
       "      <td>std</td>\n",
       "      <td>four</td>\n",
       "      <td>sedan</td>\n",
       "      <td>4wd</td>\n",
       "      <td>front</td>\n",
       "      <td>99.4</td>\n",
       "      <td>...</td>\n",
       "      <td>136</td>\n",
       "      <td>mpfi</td>\n",
       "      <td>3.19</td>\n",
       "      <td>3.40</td>\n",
       "      <td>8.0</td>\n",
       "      <td>115</td>\n",
       "      <td>5500</td>\n",
       "      <td>18</td>\n",
       "      <td>22</td>\n",
       "      <td>17450</td>\n",
       "    </tr>\n",
       "  </tbody>\n",
       "</table>\n",
       "<p>5 rows × 26 columns</p>\n",
       "</div>"
      ],
      "text/plain": [
       "   symboling normalized-losses         make fuel-type aspiration num-of-doors  \\\n",
       "0          3               NaN  alfa-romero       gas        std          two   \n",
       "1          3               NaN  alfa-romero       gas        std          two   \n",
       "2          1               NaN  alfa-romero       gas        std          two   \n",
       "3          2               164         audi       gas        std         four   \n",
       "4          2               164         audi       gas        std         four   \n",
       "\n",
       "    body-style drive-wheels engine-location  wheel-base  ...    engine-size  \\\n",
       "0  convertible          rwd           front        88.6  ...            130   \n",
       "1  convertible          rwd           front        88.6  ...            130   \n",
       "2    hatchback          rwd           front        94.5  ...            152   \n",
       "3        sedan          fwd           front        99.8  ...            109   \n",
       "4        sedan          4wd           front        99.4  ...            136   \n",
       "\n",
       "   fuel-system  bore  stroke compression-rate horsepower  peak-rpm city-mpg  \\\n",
       "0         mpfi  3.47    2.68              9.0        111      5000       21   \n",
       "1         mpfi  3.47    2.68              9.0        111      5000       21   \n",
       "2         mpfi  2.68    3.47              9.0        154      5000       19   \n",
       "3         mpfi  3.19    3.40             10.0        102      5500       24   \n",
       "4         mpfi  3.19    3.40              8.0        115      5500       18   \n",
       "\n",
       "  highway-mpg  price  \n",
       "0          27  13495  \n",
       "1          27  16500  \n",
       "2          26  16500  \n",
       "3          30  13950  \n",
       "4          22  17450  \n",
       "\n",
       "[5 rows x 26 columns]"
      ]
     },
     "execution_count": 440,
     "metadata": {},
     "output_type": "execute_result"
    }
   ],
   "source": [
    "cars = cars.replace('?', np.nan)\n",
    "cars.head(5)"
   ]
  },
  {
   "cell_type": "markdown",
   "metadata": {},
   "source": [
    "Now that I have replaced all \"?\" values with numpy NaN values, I will check if any columns that contain NaN values now need to be converted from object to numeric types."
   ]
  },
  {
   "cell_type": "code",
   "execution_count": 441,
   "metadata": {
    "collapsed": false
   },
   "outputs": [
    {
     "data": {
      "text/plain": [
       "symboling              int64\n",
       "normalized-losses     object\n",
       "make                  object\n",
       "fuel-type             object\n",
       "aspiration            object\n",
       "num-of-doors          object\n",
       "body-style            object\n",
       "drive-wheels          object\n",
       "engine-location       object\n",
       "wheel-base           float64\n",
       "length               float64\n",
       "width                float64\n",
       "height               float64\n",
       "curb-weight            int64\n",
       "engine-type           object\n",
       "num-of-cylinders      object\n",
       "engine-size            int64\n",
       "fuel-system           object\n",
       "bore                  object\n",
       "stroke                object\n",
       "compression-rate     float64\n",
       "horsepower            object\n",
       "peak-rpm              object\n",
       "city-mpg               int64\n",
       "highway-mpg            int64\n",
       "price                 object\n",
       "dtype: object"
      ]
     },
     "execution_count": 441,
     "metadata": {},
     "output_type": "execute_result"
    }
   ],
   "source": [
    "cars.dtypes"
   ]
  },
  {
   "cell_type": "code",
   "execution_count": 442,
   "metadata": {
    "collapsed": false
   },
   "outputs": [],
   "source": [
    "cols2 = ['normalized-losses', 'bore', 'stroke', 'horsepower', 'peak-rpm', 'price']\n",
    "\n",
    "cars[cols2] = cars[cols2].apply(pd.to_numeric)\n"
   ]
  },
  {
   "cell_type": "code",
   "execution_count": 443,
   "metadata": {
    "collapsed": false
   },
   "outputs": [
    {
     "data": {
      "text/plain": [
       "symboling              int64\n",
       "normalized-losses    float64\n",
       "make                  object\n",
       "fuel-type             object\n",
       "aspiration            object\n",
       "num-of-doors          object\n",
       "body-style            object\n",
       "drive-wheels          object\n",
       "engine-location       object\n",
       "wheel-base           float64\n",
       "length               float64\n",
       "width                float64\n",
       "height               float64\n",
       "curb-weight            int64\n",
       "engine-type           object\n",
       "num-of-cylinders      object\n",
       "engine-size            int64\n",
       "fuel-system           object\n",
       "bore                 float64\n",
       "stroke               float64\n",
       "compression-rate     float64\n",
       "horsepower           float64\n",
       "peak-rpm             float64\n",
       "city-mpg               int64\n",
       "highway-mpg            int64\n",
       "price                float64\n",
       "dtype: object"
      ]
     },
     "execution_count": 443,
     "metadata": {},
     "output_type": "execute_result"
    }
   ],
   "source": [
    "cars.dtypes"
   ]
  },
  {
   "cell_type": "markdown",
   "metadata": {},
   "source": [
    "Verifying the appropriate changes in data types, I have confirmed that my previously object-type columns are now converted to an integer or float type."
   ]
  },
  {
   "cell_type": "markdown",
   "metadata": {},
   "source": [
    "# Handling Missing Data"
   ]
  },
  {
   "cell_type": "code",
   "execution_count": 444,
   "metadata": {
    "collapsed": false
   },
   "outputs": [
    {
     "name": "stdout",
     "output_type": "stream",
     "text": [
      "41\n",
      "122.0\n"
     ]
    }
   ],
   "source": [
    "print(cars['normalized-losses'].isna().sum())\n",
    "print(cars['normalized-losses'].mean())"
   ]
  },
  {
   "cell_type": "code",
   "execution_count": 445,
   "metadata": {
    "collapsed": false
   },
   "outputs": [
    {
     "data": {
      "text/plain": [
       "symboling             0\n",
       "normalized-losses    41\n",
       "make                  0\n",
       "fuel-type             0\n",
       "aspiration            0\n",
       "num-of-doors          2\n",
       "body-style            0\n",
       "drive-wheels          0\n",
       "engine-location       0\n",
       "wheel-base            0\n",
       "length                0\n",
       "width                 0\n",
       "height                0\n",
       "curb-weight           0\n",
       "engine-type           0\n",
       "num-of-cylinders      0\n",
       "engine-size           0\n",
       "fuel-system           0\n",
       "bore                  4\n",
       "stroke                4\n",
       "compression-rate      0\n",
       "horsepower            2\n",
       "peak-rpm              2\n",
       "city-mpg              0\n",
       "highway-mpg           0\n",
       "price                 4\n",
       "dtype: int64"
      ]
     },
     "execution_count": 445,
     "metadata": {},
     "output_type": "execute_result"
    }
   ],
   "source": [
    "cars.isnull().sum()"
   ]
  },
  {
   "cell_type": "markdown",
   "metadata": {},
   "source": [
    "The 'normalized-losses' column has 41 missing values, roughly one-quarter of the data. I, however, do not want to delete this column entirely and thereby lose a potentially important attribute. I will instead insert the mean of this column into the missing values."
   ]
  },
  {
   "cell_type": "code",
   "execution_count": 446,
   "metadata": {
    "collapsed": false
   },
   "outputs": [
    {
     "name": "stdout",
     "output_type": "stream",
     "text": [
      "122.0    45\n",
      "161.0    11\n",
      "91.0      8\n",
      "150.0     7\n",
      "104.0     6\n",
      "134.0     6\n",
      "128.0     6\n",
      "94.0      5\n",
      "74.0      5\n",
      "85.0      5\n",
      "103.0     5\n",
      "168.0     5\n",
      "95.0      5\n",
      "65.0      5\n",
      "102.0     5\n",
      "148.0     4\n",
      "106.0     4\n",
      "93.0      4\n",
      "118.0     4\n",
      "115.0     3\n",
      "154.0     3\n",
      "125.0     3\n",
      "137.0     3\n",
      "101.0     3\n",
      "83.0      3\n",
      "194.0     2\n",
      "110.0     2\n",
      "145.0     2\n",
      "119.0     2\n",
      "197.0     2\n",
      "108.0     2\n",
      "188.0     2\n",
      "129.0     2\n",
      "81.0      2\n",
      "164.0     2\n",
      "192.0     2\n",
      "158.0     2\n",
      "153.0     2\n",
      "87.0      2\n",
      "89.0      2\n",
      "113.0     2\n",
      "121.0     1\n",
      "98.0      1\n",
      "186.0     1\n",
      "78.0      1\n",
      "107.0     1\n",
      "77.0      1\n",
      "90.0      1\n",
      "256.0     1\n",
      "231.0     1\n",
      "142.0     1\n",
      "Name: normalized-losses, dtype: int64\n"
     ]
    }
   ],
   "source": [
    "cars['normalized-losses'] = cars['normalized-losses'].fillna(122.0)\n",
    "print(cars['normalized-losses'].value_counts())"
   ]
  },
  {
   "cell_type": "markdown",
   "metadata": {},
   "source": [
    "Next I will delete the four rows of missing data in the price column. Price is the variable that I want to predict, so if this data is missing, then that row is of no use to me."
   ]
  },
  {
   "cell_type": "code",
   "execution_count": 447,
   "metadata": {
    "collapsed": false
   },
   "outputs": [
    {
     "data": {
      "text/plain": [
       "symboling            0\n",
       "normalized-losses    0\n",
       "make                 0\n",
       "fuel-type            0\n",
       "aspiration           0\n",
       "num-of-doors         2\n",
       "body-style           0\n",
       "drive-wheels         0\n",
       "engine-location      0\n",
       "wheel-base           0\n",
       "length               0\n",
       "width                0\n",
       "height               0\n",
       "curb-weight          0\n",
       "engine-type          0\n",
       "num-of-cylinders     0\n",
       "engine-size          0\n",
       "fuel-system          0\n",
       "bore                 4\n",
       "stroke               4\n",
       "compression-rate     0\n",
       "horsepower           2\n",
       "peak-rpm             2\n",
       "city-mpg             0\n",
       "highway-mpg          0\n",
       "price                0\n",
       "dtype: int64"
      ]
     },
     "execution_count": 447,
     "metadata": {},
     "output_type": "execute_result"
    }
   ],
   "source": [
    "cars = cars.dropna(subset=['price'])\n",
    "cars.isna().sum()"
   ]
  },
  {
   "cell_type": "code",
   "execution_count": 448,
   "metadata": {
    "collapsed": false
   },
   "outputs": [],
   "source": [
    "missing_cols = ['bore', 'stroke', 'horsepower', 'peak-rpm']"
   ]
  },
  {
   "cell_type": "code",
   "execution_count": 449,
   "metadata": {
    "collapsed": false
   },
   "outputs": [
    {
     "data": {
      "text/plain": [
       "bore          4\n",
       "stroke        4\n",
       "horsepower    2\n",
       "peak-rpm      2\n",
       "dtype: int64"
      ]
     },
     "execution_count": 449,
     "metadata": {},
     "output_type": "execute_result"
    }
   ],
   "source": [
    "cars[missing_cols].isna().sum()"
   ]
  },
  {
   "cell_type": "markdown",
   "metadata": {},
   "source": [
    "The rest of my numeric columns only have from two to four missing values in total. I will also replace these missing values with the mean of their repective columns."
   ]
  },
  {
   "cell_type": "code",
   "execution_count": 450,
   "metadata": {
    "collapsed": false
   },
   "outputs": [
    {
     "data": {
      "text/plain": [
       "bore             3.330711\n",
       "stroke           3.256904\n",
       "horsepower     103.396985\n",
       "peak-rpm      5117.587940\n",
       "dtype: float64"
      ]
     },
     "execution_count": 450,
     "metadata": {},
     "output_type": "execute_result"
    }
   ],
   "source": [
    "cars[missing_cols].mean()"
   ]
  },
  {
   "cell_type": "code",
   "execution_count": 451,
   "metadata": {
    "collapsed": false
   },
   "outputs": [],
   "source": [
    "cars[missing_cols] = cars[missing_cols].fillna(cars[missing_cols].mean())"
   ]
  },
  {
   "cell_type": "code",
   "execution_count": 452,
   "metadata": {
    "collapsed": false
   },
   "outputs": [
    {
     "data": {
      "text/plain": [
       "bore          0\n",
       "stroke        0\n",
       "horsepower    0\n",
       "peak-rpm      0\n",
       "dtype: int64"
      ]
     },
     "execution_count": 452,
     "metadata": {},
     "output_type": "execute_result"
    }
   ],
   "source": [
    "cars[missing_cols].isna().sum()"
   ]
  },
  {
   "cell_type": "code",
   "execution_count": 453,
   "metadata": {
    "collapsed": false
   },
   "outputs": [
    {
     "data": {
      "text/plain": [
       "symboling            0\n",
       "normalized-losses    0\n",
       "wheel-base           0\n",
       "length               0\n",
       "width                0\n",
       "height               0\n",
       "curb-weight          0\n",
       "engine-size          0\n",
       "bore                 0\n",
       "stroke               0\n",
       "compression-rate     0\n",
       "horsepower           0\n",
       "peak-rpm             0\n",
       "city-mpg             0\n",
       "highway-mpg          0\n",
       "price                0\n",
       "dtype: int64"
      ]
     },
     "execution_count": 453,
     "metadata": {},
     "output_type": "execute_result"
    }
   ],
   "source": [
    "cars.select_dtypes([int, float]).isna().sum()"
   ]
  },
  {
   "cell_type": "markdown",
   "metadata": {
    "collapsed": true
   },
   "source": [
    "I now have no more missing numeric values in my dataset. It is now cleaned and ready for the first step toward prediction: normalizing values so each attribute is valued upon the same scale."
   ]
  },
  {
   "cell_type": "markdown",
   "metadata": {},
   "source": [
    "## Normalzing Numeric Columns\n",
    "\n",
    "By converting each feature to it's standard deviation from it's respective mean, I will be weighting all of my features the same. "
   ]
  },
  {
   "cell_type": "code",
   "execution_count": 454,
   "metadata": {
    "collapsed": false
   },
   "outputs": [
    {
     "data": {
      "text/plain": [
       "symboling              int64\n",
       "normalized-losses    float64\n",
       "make                  object\n",
       "fuel-type             object\n",
       "aspiration            object\n",
       "num-of-doors          object\n",
       "body-style            object\n",
       "drive-wheels          object\n",
       "engine-location       object\n",
       "wheel-base           float64\n",
       "length               float64\n",
       "width                float64\n",
       "height               float64\n",
       "curb-weight            int64\n",
       "engine-type           object\n",
       "num-of-cylinders      object\n",
       "engine-size            int64\n",
       "fuel-system           object\n",
       "bore                 float64\n",
       "stroke               float64\n",
       "compression-rate     float64\n",
       "horsepower           float64\n",
       "peak-rpm             float64\n",
       "city-mpg               int64\n",
       "highway-mpg            int64\n",
       "price                float64\n",
       "dtype: object"
      ]
     },
     "execution_count": 454,
     "metadata": {},
     "output_type": "execute_result"
    }
   ],
   "source": [
    "cars.dtypes"
   ]
  },
  {
   "cell_type": "code",
   "execution_count": 455,
   "metadata": {
    "collapsed": false
   },
   "outputs": [
    {
     "data": {
      "text/html": [
       "<div>\n",
       "<style scoped>\n",
       "    .dataframe tbody tr th:only-of-type {\n",
       "        vertical-align: middle;\n",
       "    }\n",
       "\n",
       "    .dataframe tbody tr th {\n",
       "        vertical-align: top;\n",
       "    }\n",
       "\n",
       "    .dataframe thead th {\n",
       "        text-align: right;\n",
       "    }\n",
       "</style>\n",
       "<table border=\"1\" class=\"dataframe\">\n",
       "  <thead>\n",
       "    <tr style=\"text-align: right;\">\n",
       "      <th></th>\n",
       "      <th>symboling</th>\n",
       "      <th>normalized-losses</th>\n",
       "      <th>wheel-base</th>\n",
       "      <th>length</th>\n",
       "      <th>width</th>\n",
       "      <th>height</th>\n",
       "      <th>curb-weight</th>\n",
       "      <th>engine-size</th>\n",
       "      <th>bore</th>\n",
       "      <th>stroke</th>\n",
       "      <th>compression-rate</th>\n",
       "      <th>horsepower</th>\n",
       "      <th>peak-rpm</th>\n",
       "      <th>city-mpg</th>\n",
       "      <th>highway-mpg</th>\n",
       "      <th>price</th>\n",
       "    </tr>\n",
       "  </thead>\n",
       "  <tbody>\n",
       "    <tr>\n",
       "      <th>0</th>\n",
       "      <td>1.720753</td>\n",
       "      <td>0.000000</td>\n",
       "      <td>-1.680910</td>\n",
       "      <td>-0.438315</td>\n",
       "      <td>-0.851335</td>\n",
       "      <td>-2.029015</td>\n",
       "      <td>-0.014821</td>\n",
       "      <td>0.075201</td>\n",
       "      <td>0.519597</td>\n",
       "      <td>-1.825369</td>\n",
       "      <td>-0.290709</td>\n",
       "      <td>0.203476</td>\n",
       "      <td>-0.245942</td>\n",
       "      <td>-0.650624</td>\n",
       "      <td>-0.540937</td>\n",
       "      <td>13495.0</td>\n",
       "    </tr>\n",
       "    <tr>\n",
       "      <th>1</th>\n",
       "      <td>1.720753</td>\n",
       "      <td>0.000000</td>\n",
       "      <td>-1.680910</td>\n",
       "      <td>-0.438315</td>\n",
       "      <td>-0.851335</td>\n",
       "      <td>-2.029015</td>\n",
       "      <td>-0.014821</td>\n",
       "      <td>0.075201</td>\n",
       "      <td>0.519597</td>\n",
       "      <td>-1.825369</td>\n",
       "      <td>-0.290709</td>\n",
       "      <td>0.203476</td>\n",
       "      <td>-0.245942</td>\n",
       "      <td>-0.650624</td>\n",
       "      <td>-0.540937</td>\n",
       "      <td>16500.0</td>\n",
       "    </tr>\n",
       "    <tr>\n",
       "      <th>2</th>\n",
       "      <td>0.126876</td>\n",
       "      <td>0.000000</td>\n",
       "      <td>-0.708334</td>\n",
       "      <td>-0.243544</td>\n",
       "      <td>-0.185134</td>\n",
       "      <td>-0.558319</td>\n",
       "      <td>0.516789</td>\n",
       "      <td>0.604724</td>\n",
       "      <td>-2.427374</td>\n",
       "      <td>0.674254</td>\n",
       "      <td>-0.290709</td>\n",
       "      <td>1.354267</td>\n",
       "      <td>-0.245942</td>\n",
       "      <td>-0.961995</td>\n",
       "      <td>-0.687669</td>\n",
       "      <td>16500.0</td>\n",
       "    </tr>\n",
       "    <tr>\n",
       "      <th>3</th>\n",
       "      <td>0.923814</td>\n",
       "      <td>1.312654</td>\n",
       "      <td>0.165335</td>\n",
       "      <td>0.194690</td>\n",
       "      <td>0.147966</td>\n",
       "      <td>0.217881</td>\n",
       "      <td>-0.422710</td>\n",
       "      <td>-0.430252</td>\n",
       "      <td>-0.524899</td>\n",
       "      <td>0.452769</td>\n",
       "      <td>-0.041019</td>\n",
       "      <td>-0.037387</td>\n",
       "      <td>0.799836</td>\n",
       "      <td>-0.183569</td>\n",
       "      <td>-0.100741</td>\n",
       "      <td>13950.0</td>\n",
       "    </tr>\n",
       "    <tr>\n",
       "      <th>4</th>\n",
       "      <td>0.923814</td>\n",
       "      <td>1.312654</td>\n",
       "      <td>0.099398</td>\n",
       "      <td>0.194690</td>\n",
       "      <td>0.243137</td>\n",
       "      <td>0.217881</td>\n",
       "      <td>0.518722</td>\n",
       "      <td>0.219617</td>\n",
       "      <td>-0.524899</td>\n",
       "      <td>0.452769</td>\n",
       "      <td>-0.540399</td>\n",
       "      <td>0.310527</td>\n",
       "      <td>0.799836</td>\n",
       "      <td>-1.117680</td>\n",
       "      <td>-1.274597</td>\n",
       "      <td>17450.0</td>\n",
       "    </tr>\n",
       "    <tr>\n",
       "      <th>5</th>\n",
       "      <td>0.923814</td>\n",
       "      <td>0.000000</td>\n",
       "      <td>0.165335</td>\n",
       "      <td>0.251498</td>\n",
       "      <td>0.195551</td>\n",
       "      <td>-0.272351</td>\n",
       "      <td>-0.094079</td>\n",
       "      <td>0.219617</td>\n",
       "      <td>-0.524899</td>\n",
       "      <td>0.452769</td>\n",
       "      <td>-0.415554</td>\n",
       "      <td>0.176714</td>\n",
       "      <td>0.799836</td>\n",
       "      <td>-0.961995</td>\n",
       "      <td>-0.834401</td>\n",
       "      <td>15250.0</td>\n",
       "    </tr>\n",
       "    <tr>\n",
       "      <th>6</th>\n",
       "      <td>0.126876</td>\n",
       "      <td>1.125132</td>\n",
       "      <td>1.154395</td>\n",
       "      <td>1.501278</td>\n",
       "      <td>2.622423</td>\n",
       "      <td>0.789818</td>\n",
       "      <td>0.557385</td>\n",
       "      <td>0.219617</td>\n",
       "      <td>-0.524899</td>\n",
       "      <td>0.452769</td>\n",
       "      <td>-0.415554</td>\n",
       "      <td>0.176714</td>\n",
       "      <td>0.799836</td>\n",
       "      <td>-0.961995</td>\n",
       "      <td>-0.834401</td>\n",
       "      <td>17710.0</td>\n",
       "    </tr>\n",
       "    <tr>\n",
       "      <th>7</th>\n",
       "      <td>0.126876</td>\n",
       "      <td>0.000000</td>\n",
       "      <td>1.154395</td>\n",
       "      <td>1.501278</td>\n",
       "      <td>2.622423</td>\n",
       "      <td>0.789818</td>\n",
       "      <td>0.770029</td>\n",
       "      <td>0.219617</td>\n",
       "      <td>-0.524899</td>\n",
       "      <td>0.452769</td>\n",
       "      <td>-0.415554</td>\n",
       "      <td>0.176714</td>\n",
       "      <td>0.799836</td>\n",
       "      <td>-0.961995</td>\n",
       "      <td>-0.834401</td>\n",
       "      <td>18920.0</td>\n",
       "    </tr>\n",
       "    <tr>\n",
       "      <th>8</th>\n",
       "      <td>0.126876</td>\n",
       "      <td>1.125132</td>\n",
       "      <td>1.154395</td>\n",
       "      <td>1.501278</td>\n",
       "      <td>2.622423</td>\n",
       "      <td>0.871523</td>\n",
       "      <td>1.025201</td>\n",
       "      <td>0.099271</td>\n",
       "      <td>-0.748720</td>\n",
       "      <td>0.452769</td>\n",
       "      <td>-0.465492</td>\n",
       "      <td>0.979591</td>\n",
       "      <td>0.799836</td>\n",
       "      <td>-1.273365</td>\n",
       "      <td>-1.568060</td>\n",
       "      <td>23875.0</td>\n",
       "    </tr>\n",
       "    <tr>\n",
       "      <th>10</th>\n",
       "      <td>0.923814</td>\n",
       "      <td>2.187756</td>\n",
       "      <td>0.396116</td>\n",
       "      <td>0.210921</td>\n",
       "      <td>-0.518235</td>\n",
       "      <td>0.217881</td>\n",
       "      <td>-0.310589</td>\n",
       "      <td>-0.454322</td>\n",
       "      <td>0.631507</td>\n",
       "      <td>-1.445680</td>\n",
       "      <td>-0.340647</td>\n",
       "      <td>-0.064150</td>\n",
       "      <td>1.427302</td>\n",
       "      <td>-0.339254</td>\n",
       "      <td>-0.247473</td>\n",
       "      <td>16430.0</td>\n",
       "    </tr>\n",
       "  </tbody>\n",
       "</table>\n",
       "</div>"
      ],
      "text/plain": [
       "    symboling  normalized-losses  wheel-base    length     width    height  \\\n",
       "0    1.720753           0.000000   -1.680910 -0.438315 -0.851335 -2.029015   \n",
       "1    1.720753           0.000000   -1.680910 -0.438315 -0.851335 -2.029015   \n",
       "2    0.126876           0.000000   -0.708334 -0.243544 -0.185134 -0.558319   \n",
       "3    0.923814           1.312654    0.165335  0.194690  0.147966  0.217881   \n",
       "4    0.923814           1.312654    0.099398  0.194690  0.243137  0.217881   \n",
       "5    0.923814           0.000000    0.165335  0.251498  0.195551 -0.272351   \n",
       "6    0.126876           1.125132    1.154395  1.501278  2.622423  0.789818   \n",
       "7    0.126876           0.000000    1.154395  1.501278  2.622423  0.789818   \n",
       "8    0.126876           1.125132    1.154395  1.501278  2.622423  0.871523   \n",
       "10   0.923814           2.187756    0.396116  0.210921 -0.518235  0.217881   \n",
       "\n",
       "    curb-weight  engine-size      bore    stroke  compression-rate  \\\n",
       "0     -0.014821     0.075201  0.519597 -1.825369         -0.290709   \n",
       "1     -0.014821     0.075201  0.519597 -1.825369         -0.290709   \n",
       "2      0.516789     0.604724 -2.427374  0.674254         -0.290709   \n",
       "3     -0.422710    -0.430252 -0.524899  0.452769         -0.041019   \n",
       "4      0.518722     0.219617 -0.524899  0.452769         -0.540399   \n",
       "5     -0.094079     0.219617 -0.524899  0.452769         -0.415554   \n",
       "6      0.557385     0.219617 -0.524899  0.452769         -0.415554   \n",
       "7      0.770029     0.219617 -0.524899  0.452769         -0.415554   \n",
       "8      1.025201     0.099271 -0.748720  0.452769         -0.465492   \n",
       "10    -0.310589    -0.454322  0.631507 -1.445680         -0.340647   \n",
       "\n",
       "    horsepower  peak-rpm  city-mpg  highway-mpg    price  \n",
       "0     0.203476 -0.245942 -0.650624    -0.540937  13495.0  \n",
       "1     0.203476 -0.245942 -0.650624    -0.540937  16500.0  \n",
       "2     1.354267 -0.245942 -0.961995    -0.687669  16500.0  \n",
       "3    -0.037387  0.799836 -0.183569    -0.100741  13950.0  \n",
       "4     0.310527  0.799836 -1.117680    -1.274597  17450.0  \n",
       "5     0.176714  0.799836 -0.961995    -0.834401  15250.0  \n",
       "6     0.176714  0.799836 -0.961995    -0.834401  17710.0  \n",
       "7     0.176714  0.799836 -0.961995    -0.834401  18920.0  \n",
       "8     0.979591  0.799836 -1.273365    -1.568060  23875.0  \n",
       "10   -0.064150  1.427302 -0.339254    -0.247473  16430.0  "
      ]
     },
     "execution_count": 455,
     "metadata": {},
     "output_type": "execute_result"
    }
   ],
   "source": [
    "numerics = cars.select_dtypes(['int64', 'float64']).columns\n",
    "normalized_cars = (cars[numerics] - cars[numerics].mean()) / cars[numerics].std()\n",
    "normalized_cars['price'] = cars['price']\n",
    "normalized_cars.head(10)"
   ]
  },
  {
   "cell_type": "markdown",
   "metadata": {},
   "source": [
    "This new dataset above is now ready for analysis. I have selected the features (columns) that I want to use to begin building my prediction model. By normalizing the values, each feature is weighted the same, all along the same scale of dist"
   ]
  },
  {
   "cell_type": "markdown",
   "metadata": {
    "collapsed": true
   },
   "source": [
    "## K-nearest neighbor model\n",
    "\n",
    "Now I will define a function to split my data for training and testing, instantiate a KNeighborsRegressor class, fit the model, make predictions, and then calculate and return the RMSE value."
   ]
  },
  {
   "cell_type": "code",
   "execution_count": 456,
   "metadata": {
    "collapsed": false
   },
   "outputs": [],
   "source": [
    "from sklearn.neighbors import KNeighborsRegressor\n",
    "from sklearn.metrics import mean_squared_error\n",
    "\n",
    "def knn_train_test(train_col, target_col, dataframe):\n",
    "    np.random.seed(1)\n",
    "    shuffled_index = np.random.permutation(dataframe.index)\n",
    "    rand_df = dataframe.reindex(shuffled_index)\n",
    "    last_train_row = int(len(rand_df) / 2)\n",
    "    train_df = rand_df.iloc[0:last_train_row]\n",
    "    test_df = rand_df.iloc[last_train_row:]\n",
    "    knn = KNeighborsRegressor()\n",
    "    knn.fit(train_df[[train_col]],train_df[target_col])\n",
    "    predictions = knn.predict(test_df[[train_col]])\n",
    "    mse = mean_squared_error(test_df[target_col], predictions)\n",
    "    rmse = np.sqrt(mse)\n",
    "    return rmse"
   ]
  },
  {
   "cell_type": "code",
   "execution_count": 457,
   "metadata": {
    "collapsed": false
   },
   "outputs": [
    {
     "data": {
      "text/plain": [
       "{'bore': 6793.0574839170895,\n",
       " 'city-mpg': 4754.637378183515,\n",
       " 'compression-rate': 6606.571345933599,\n",
       " 'curb-weight': 4453.680702653493,\n",
       " 'engine-size': 3297.6997444813674,\n",
       " 'height': 8132.467731772246,\n",
       " 'highway-mpg': 4625.047587445843,\n",
       " 'horsepower': 4047.376554982472,\n",
       " 'length': 5429.644739577333,\n",
       " 'normalized-losses': 7337.2848203845515,\n",
       " 'peak-rpm': 7643.0703228739185,\n",
       " 'price': 1427.0212970303621,\n",
       " 'stroke': 8006.096427246941,\n",
       " 'symboling': 7979.434919842381,\n",
       " 'wheel-base': 5461.490335934409,\n",
       " 'width': 4772.510209128695}"
      ]
     },
     "execution_count": 457,
     "metadata": {},
     "output_type": "execute_result"
    }
   ],
   "source": [
    "rmses = {}\n",
    "\n",
    "for col in normalized_cars.columns:\n",
    "    rmse = knn_train_test(col, 'price', normalized_cars)\n",
    "    rmses[col] = rmse\n",
    "    \n",
    "rmses"
   ]
  },
  {
   "cell_type": "markdown",
   "metadata": {},
   "source": [
    "The rmse values above tell me how well each attribute can predict prices using only one feature and the default parameters of the k-nearest neighbors algorithm. I will now modify the parameters by selecting more 'neighbors', in hopes of improving rmse scores."
   ]
  },
  {
   "cell_type": "code",
   "execution_count": 458,
   "metadata": {
    "collapsed": false
   },
   "outputs": [
    {
     "data": {
      "text/plain": [
       "2946.7417879781224"
      ]
     },
     "execution_count": 458,
     "metadata": {},
     "output_type": "execute_result"
    }
   ],
   "source": [
    "def knn_train_test(train_col, target_col, dataframe, k):\n",
    "    np.random.seed(1)\n",
    "    shuffled_index = np.random.permutation(dataframe.index)\n",
    "    rand_df = dataframe.reindex(shuffled_index)\n",
    "    last_train_row = int(len(rand_df) / 2)\n",
    "    train_df = rand_df.iloc[0:last_train_row]\n",
    "    test_df = rand_df.iloc[last_train_row:]\n",
    "    knn = KNeighborsRegressor(n_neighbors=k)\n",
    "    knn.fit(train_df[[train_col]],train_df[target_col])\n",
    "    predictions = knn.predict(test_df[[train_col]])\n",
    "    mse = mean_squared_error(test_df[target_col], predictions)\n",
    "    rmse = np.sqrt(mse)\n",
    "    return rmse\n",
    "\n",
    "knn_train_test('engine-size', 'price', normalized_cars, 3)"
   ]
  },
  {
   "cell_type": "markdown",
   "metadata": {},
   "source": [
    "Next I will create a visualization that plots multiple k values for every column."
   ]
  },
  {
   "cell_type": "code",
   "execution_count": 459,
   "metadata": {
    "collapsed": false
   },
   "outputs": [
    {
     "name": "stdout",
     "output_type": "stream",
     "text": [
      "[3227.659787364569, 2946.7417879781224, 3297.6997444813674, 3563.43509928404, 3831.764970642862]\n",
      "[1, 3, 5, 7, 9]\n"
     ]
    }
   ],
   "source": [
    "k_values = [1, 3, 5, 7, 9]\n",
    "\n",
    "rmses_engine = []\n",
    "\n",
    "for k in k_values:\n",
    "    rmse = knn_train_test('engine-size', 'price', normalized_cars, k)\n",
    "    rmses_engine.append(rmse)\n",
    "    \n",
    "print(rmses_engine)\n",
    "print(k_values)"
   ]
  },
  {
   "cell_type": "code",
   "execution_count": 460,
   "metadata": {
    "collapsed": false
   },
   "outputs": [
    {
     "data": {
      "image/png": "[encoded data removed]",
      "text/plain": [
       "<matplotlib.figure.Figure at 0x7f081defa208>"
      ]
     },
     "metadata": {},
     "output_type": "display_data"
    }
   ],
   "source": [
    "cars_no_price = normalized_cars.columns.drop('price')\n",
    "\n",
    "for col in cars_no_price:\n",
    "    k_values = [1, 3, 5, 7, 9]\n",
    "    rmses_col = []\n",
    "    for k in k_values:\n",
    "        rmse = knn_train_test(col, 'price', normalized_cars, k)\n",
    "        rmses_col.append(rmse)\n",
    "    plt.plot(k_values, rmses_col)\n",
    "    plt.xlabel('K Values')\n",
    "    plt.ylabel('RMSE')"
   ]
  },
  {
   "cell_type": "markdown",
   "metadata": {},
   "source": [
    "This line plot represents each column's respective rmse score at each associated k-value. I have two main takeaways from this. One is that there are two main clusters of rmse scores, about half of the features - near the top of the chart - have rmse scores much higher than the group below. Secondly, looking at k-values among the more accurate group of features, the optimal k-value appears to be '3'."
   ]
  },
  {
   "cell_type": "markdown",
   "metadata": {},
   "source": [
    "Next I will modify my function to accept multiple columns and the default k parameter."
   ]
  },
  {
   "cell_type": "code",
   "execution_count": 461,
   "metadata": {
    "collapsed": false
   },
   "outputs": [],
   "source": [
    "def knn_train_test(train_cols, target_col, dataframe):\n",
    "    np.random.seed(1)\n",
    "    shuffled_index = np.random.permutation(dataframe.index)\n",
    "    rand_df = dataframe.reindex(shuffled_index)\n",
    "    last_train_row = int(len(rand_df) / 2)\n",
    "    train_df = rand_df.iloc[0:last_train_row]\n",
    "    test_df = rand_df.iloc[last_train_row:]\n",
    "    knn = KNeighborsRegressor()\n",
    "    knn.fit(train_df[train_cols],train_df[target_col])\n",
    "    predictions = knn.predict(test_df[train_cols])\n",
    "    mse = mean_squared_error(test_df[target_col], predictions)\n",
    "    rmse = np.sqrt(mse)\n",
    "    return rmse"
   ]
  },
  {
   "cell_type": "code",
   "execution_count": 462,
   "metadata": {
    "collapsed": false
   },
   "outputs": [
    {
     "data": {
      "text/plain": [
       "2938.1306900277887"
      ]
     },
     "execution_count": 462,
     "metadata": {},
     "output_type": "execute_result"
    }
   ],
   "source": [
    "# model with two best features\n",
    "\n",
    "two_best = ['engine-size', 'horsepower']\n",
    "knn_train_test(two_best, 'price', normalized_cars)"
   ]
  },
  {
   "cell_type": "code",
   "execution_count": 463,
   "metadata": {
    "collapsed": false
   },
   "outputs": [
    {
     "data": {
      "text/plain": [
       "3381.822928364506"
      ]
     },
     "execution_count": 463,
     "metadata": {},
     "output_type": "execute_result"
    }
   ],
   "source": [
    "three_best = ['engine-size', 'horsepower', 'curb-weight']\n",
    "knn_train_test(three_best, 'price', normalized_cars)"
   ]
  },
  {
   "cell_type": "code",
   "execution_count": 464,
   "metadata": {
    "collapsed": false
   },
   "outputs": [
    {
     "data": {
      "text/plain": [
       "3310.1513473220853"
      ]
     },
     "execution_count": 464,
     "metadata": {},
     "output_type": "execute_result"
    }
   ],
   "source": [
    "four_best = ['engine-size', 'horsepower', 'curb-weight', 'highway-mpg']\n",
    "knn_train_test(four_best, 'price', normalized_cars)"
   ]
  },
  {
   "cell_type": "code",
   "execution_count": 465,
   "metadata": {
    "collapsed": false
   },
   "outputs": [
    {
     "data": {
      "text/plain": [
       "3328.7098403417676"
      ]
     },
     "execution_count": 465,
     "metadata": {},
     "output_type": "execute_result"
    }
   ],
   "source": [
    "five_best = ['engine-size', 'horsepower', 'curb-weight', 'highway-mpg', 'city-mpg']\n",
    "knn_train_test(five_best, 'price', normalized_cars)"
   ]
  },
  {
   "cell_type": "code",
   "execution_count": 466,
   "metadata": {
    "collapsed": false
   },
   "outputs": [
    {
     "data": {
      "text/plain": [
       "3415.73077323836"
      ]
     },
     "execution_count": 466,
     "metadata": {},
     "output_type": "execute_result"
    }
   ],
   "source": [
    "six_best = ['engine-size', 'horsepower', 'curb-weight', 'highway-mpg', 'city-mpg', 'width']\n",
    "knn_train_test(six_best, 'price', normalized_cars)"
   ]
  },
  {
   "cell_type": "markdown",
   "metadata": {},
   "source": [
    "My lowest rmse value is still using the two best features, engine-size and horsepower"
   ]
  },
  {
   "cell_type": "markdown",
   "metadata": {
    "collapsed": true
   },
   "source": [
    "Now I will take my top three models and train hyperparameter values for k from 1 to 25. This will tell me the optimal k value and optimal features to use for the best model."
   ]
  },
  {
   "cell_type": "code",
   "execution_count": 467,
   "metadata": {
    "collapsed": true
   },
   "outputs": [],
   "source": [
    "def knn_train_test(train_cols, target_col, dataframe, k):\n",
    "    np.random.seed(1)\n",
    "    shuffled_index = np.random.permutation(dataframe.index)\n",
    "    rand_df = dataframe.reindex(shuffled_index)\n",
    "    last_train_row = int(len(rand_df) / 2)\n",
    "    train_df = rand_df.iloc[0:last_train_row]\n",
    "    test_df = rand_df.iloc[last_train_row:]\n",
    "    knn = KNeighborsRegressor(n_neighbors = k)\n",
    "    knn.fit(train_df[train_cols],train_df[target_col])\n",
    "    predictions = knn.predict(test_df[train_cols])\n",
    "    mse = mean_squared_error(test_df[target_col], predictions)\n",
    "    rmse = np.sqrt(mse)\n",
    "    return rmse"
   ]
  },
  {
   "cell_type": "code",
   "execution_count": 468,
   "metadata": {
    "collapsed": false
   },
   "outputs": [
    {
     "data": {
      "text/plain": [
       "{1: 2824.8287076781794,\n",
       " 2: 2615.442453055988,\n",
       " 3: 2676.6521480521455,\n",
       " 4: 2831.7841198370656,\n",
       " 5: 2938.1306900277887,\n",
       " 6: 3128.516968715745,\n",
       " 7: 3204.0554389097565,\n",
       " 8: 3459.8826047221833,\n",
       " 9: 3715.847780310613,\n",
       " 10: 3980.307424292901,\n",
       " 11: 4151.348212046468,\n",
       " 12: 4231.233582321214,\n",
       " 13: 4321.751665703992,\n",
       " 14: 4366.489859575597,\n",
       " 15: 4487.120412964203,\n",
       " 16: 4591.609216968047,\n",
       " 17: 4683.284404125849,\n",
       " 18: 4739.084337496269,\n",
       " 19: 4784.099214347852,\n",
       " 20: 4777.706746763483,\n",
       " 21: 4816.3918959481325,\n",
       " 22: 4806.480777296786,\n",
       " 23: 4832.819314595003,\n",
       " 24: 4883.724636768665}"
      ]
     },
     "execution_count": 468,
     "metadata": {},
     "output_type": "execute_result"
    }
   ],
   "source": [
    "best_rmses = {}\n",
    "\n",
    "for k in range(1,25):\n",
    "    rmse = knn_train_test(two_best, 'price', normalized_cars, k)\n",
    "    best_rmses[k] = rmse\n",
    "    \n",
    "best_rmses # k=2 is the winner"
   ]
  },
  {
   "cell_type": "code",
   "execution_count": 469,
   "metadata": {
    "collapsed": false
   },
   "outputs": [
    {
     "data": {
      "text/plain": [
       "{1: 2931.3359286735927,\n",
       " 2: 2449.204419725712,\n",
       " 3: 2737.2963773851316,\n",
       " 4: 3023.615860404084,\n",
       " 5: 3310.1513473220853,\n",
       " 6: 3680.5749361799553,\n",
       " 7: 3822.66524123877,\n",
       " 8: 3941.803936227475,\n",
       " 9: 4128.550042537242,\n",
       " 10: 4186.681207350303,\n",
       " 11: 4189.97072330332,\n",
       " 12: 4245.571814422869,\n",
       " 13: 4229.300079763142,\n",
       " 14: 4309.176332083907,\n",
       " 15: 4344.966176465758,\n",
       " 16: 4454.519002021644,\n",
       " 17: 4474.875684150935,\n",
       " 18: 4525.314891455131,\n",
       " 19: 4615.0673237723295,\n",
       " 20: 4623.937643790557,\n",
       " 21: 4644.897615402241,\n",
       " 22: 4676.60559700624,\n",
       " 23: 4714.098628773666,\n",
       " 24: 4758.477959676704}"
      ]
     },
     "execution_count": 469,
     "metadata": {},
     "output_type": "execute_result"
    }
   ],
   "source": [
    "third_best_rmses = {}\n",
    "\n",
    "for k in range(1,25):\n",
    "    rmse = knn_train_test(four_best, 'price', normalized_cars, k)\n",
    "    third_best_rmses[k] = rmse\n",
    "    \n",
    "third_best_rmses # k=2 is the winner once again"
   ]
  },
  {
   "cell_type": "code",
   "execution_count": 470,
   "metadata": {
    "collapsed": false
   },
   "outputs": [
    {
     "data": {
      "text/plain": [
       "{1: 2774.775739756385,\n",
       " 2: 2446.949933130534,\n",
       " 3: 2772.0330302887987,\n",
       " 4: 2975.9942356453007,\n",
       " 5: 3328.7098403417676,\n",
       " 6: 3663.5210274382,\n",
       " 7: 3788.9407640070294,\n",
       " 8: 3937.7188597237373,\n",
       " 9: 4083.983149614679,\n",
       " 10: 4089.9547732617693,\n",
       " 11: 4174.925561598668,\n",
       " 12: 4289.381759938663,\n",
       " 13: 4290.858469652085,\n",
       " 14: 4318.2307105677955,\n",
       " 15: 4396.053400106698,\n",
       " 16: 4472.405158680058,\n",
       " 17: 4542.835775286443,\n",
       " 18: 4569.576890062431,\n",
       " 19: 4636.1915150757795,\n",
       " 20: 4631.580771186524,\n",
       " 21: 4651.794736718062,\n",
       " 22: 4676.867285518568,\n",
       " 23: 4722.037386159513,\n",
       " 24: 4761.310117814777}"
      ]
     },
     "execution_count": 470,
     "metadata": {},
     "output_type": "execute_result"
    }
   ],
   "source": [
    "fourth_best_rmses = {}\n",
    "\n",
    "for k in range(1,25):\n",
    "    rmse = knn_train_test(five_best, 'price', normalized_cars, k)\n",
    "    fourth_best_rmses[k] = rmse\n",
    "    \n",
    "fourth_best_rmses # k=2 neighbors once again"
   ]
  },
  {
   "cell_type": "code",
   "execution_count": 471,
   "metadata": {
    "collapsed": false
   },
   "outputs": [
    {
     "data": {
      "text/plain": [
       "{1: 2502.607863571894,\n",
       " 2: 2878.0108530540724,\n",
       " 3: 2937.264340007604,\n",
       " 4: 3129.2705640444465,\n",
       " 5: 3415.73077323836,\n",
       " 6: 3552.8563109766555,\n",
       " 7: 3590.084644897216,\n",
       " 8: 3773.305097389114,\n",
       " 9: 3858.2963252174727,\n",
       " 10: 4004.9831592580504,\n",
       " 11: 4135.685274123869,\n",
       " 12: 4266.744996734831,\n",
       " 13: 4336.338851856008,\n",
       " 14: 4345.19040153955,\n",
       " 15: 4362.9253940565395,\n",
       " 16: 4368.676312215845,\n",
       " 17: 4405.460969539992,\n",
       " 18: 4433.306430919558,\n",
       " 19: 4469.773972493991,\n",
       " 20: 4504.4946933783,\n",
       " 21: 4591.673119606178,\n",
       " 22: 4685.06345069375,\n",
       " 23: 4752.875684818337,\n",
       " 24: 4801.876263340083}"
      ]
     },
     "execution_count": 471,
     "metadata": {},
     "output_type": "execute_result"
    }
   ],
   "source": [
    "fifth_best_rmses = {}\n",
    "\n",
    "for k in range(1,25):\n",
    "    rmse = knn_train_test(six_best, 'price', normalized_cars, k)\n",
    "    fifth_best_rmses[k] = rmse\n",
    "    \n",
    "fifth_best_rmses"
   ]
  },
  {
   "cell_type": "markdown",
   "metadata": {},
   "source": [
    "The model's accuracy decreased significantly with the top six features. My optimal parameters are the top 5 features and a k value of 2. This resuled in an RMSE score of 2446. This means my model is able to predict prices in the test data by an average of $2446 deviation from the mean.\n",
    "\n",
    "For the finishing touch, I will plot a line chart showing the actual price column in comparison to my predictions."
   ]
  },
  {
   "cell_type": "code",
   "execution_count": 472,
   "metadata": {
    "collapsed": true
   },
   "outputs": [],
   "source": [
    "def knn_train_test(train_cols, target_col, dataframe, k):\n",
    "    np.random.seed(1)\n",
    "    shuffled_index = np.random.permutation(dataframe.index)\n",
    "    rand_df = dataframe.reindex(shuffled_index)\n",
    "    last_train_row = int(len(rand_df) / 2)\n",
    "    train_df = rand_df.iloc[0:last_train_row]\n",
    "    test_df = rand_df.iloc[last_train_row:]\n",
    "    knn = KNeighborsRegressor(n_neighbors = k)\n",
    "    knn.fit(train_df[train_cols],train_df[target_col])\n",
    "    predictions = knn.predict(test_df[train_cols])\n",
    "    mse = mean_squared_error(test_df[target_col], predictions)\n",
    "    rmse = np.sqrt(mse)\n",
    "    plt.scatter(test_df[target_col], predictions)\n",
    "    plt.xlabel('Actual Price ($)')\n",
    "    plt.ylabel('Predicted Price ($)')\n",
    "    plt.xlim(0, 50000)\n",
    "    plt.ylim(0, 50000)\n",
    "    plt.gca().set_aspect('equal', adjustable='box')\n",
    "    return plt.show()"
   ]
  },
  {
   "cell_type": "code",
   "execution_count": 473,
   "metadata": {
    "collapsed": false
   },
   "outputs": [
    {
     "data": {
      "image/png": "[encoded data removed]",
      "text/plain": [
       "<matplotlib.figure.Figure at 0x7f081e02b9b0>"
      ]
     },
     "metadata": {},
     "output_type": "display_data"
    }
   ],
   "source": [
    "knn_train_test(fourth_best, 'price', normalized_cars, 2)"
   ]
  },
  {
   "cell_type": "markdown",
   "metadata": {},
   "source": [
    "From the chart, we can see that predictions and actual price have a linear relationship, following a general 45 degree upward trend, albiet with a few outliers as well. Particularly below 20,000 dollars, the model fits quite well. For the most expensive cars, above 30,000 dollars, my model stalls. It does not seem able to predict the price very well for a car above roughly 30,000 dollars. If I wanted to try predicting prices for a car above 30,000 dollars, I would either rework my model or better yet, make a new one for expensive cars."
   ]
  },
  {
   "cell_type": "code",
   "execution_count": null,
   "metadata": {
    "collapsed": true
   },
   "outputs": [],
   "source": []
  }
 ],
 "metadata": {
  "kernelspec": {
   "display_name": "Python 3",
   "language": "python",
   "name": "python3"
  },
  "language_info": {
   "codemirror_mode": {
    "name": "ipython",
    "version": 3
   },
   "file_extension": ".py",
   "mimetype": "text/x-python",
   "name": "python",
   "nbconvert_exporter": "python",
   "pygments_lexer": "ipython3",
   "version": "3.4.3"
  }
 },
 "nbformat": 4,
 "nbformat_minor": 2
}
